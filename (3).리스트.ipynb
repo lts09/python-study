{
 "cells": [
  {
   "cell_type": "code",
   "execution_count": 23,
   "id": "f64a503c-964c-4d92-b239-dee6f7d23cc8",
   "metadata": {},
   "outputs": [
    {
     "data": {
      "text/plain": [
       "'C:\\\\Users\\\\305'"
      ]
     },
     "execution_count": 23,
     "metadata": {},
     "output_type": "execute_result"
    }
   ],
   "source": [
    "# 프로그램의 위치 찾기\n",
    "\n",
    "import os\n",
    "os.getcwd()    # get Current Work Directory"
   ]
  },
  {
   "cell_type": "code",
   "execution_count": 1,
   "id": "5196bfc9-6f28-47b4-9100-23abfe62ec23",
   "metadata": {},
   "outputs": [
    {
     "data": {
      "text/plain": [
       "['삼성전자', 'sk하이닉스', '네이버']"
      ]
     },
     "execution_count": 1,
     "metadata": {},
     "output_type": "execute_result"
    }
   ],
   "source": [
    "company_list = ['삼성전자','sk하이닉스','네이버']\n",
    "company_list"
   ]
  },
  {
   "cell_type": "code",
   "execution_count": 2,
   "id": "49515e64-efb8-47e7-9806-9826b0b96f20",
   "metadata": {},
   "outputs": [
    {
     "name": "stdout",
     "output_type": "stream",
     "text": [
      "['삼성전자', 'sk하이닉스', '네이버']\n"
     ]
    }
   ],
   "source": [
    "print(company_list)"
   ]
  },
  {
   "cell_type": "code",
   "execution_count": 3,
   "id": "193be7f4-4fe8-4298-82eb-17c4c2ff7d81",
   "metadata": {},
   "outputs": [
    {
     "data": {
      "text/plain": [
       "list"
      ]
     },
     "execution_count": 3,
     "metadata": {},
     "output_type": "execute_result"
    }
   ],
   "source": [
    "type(company_list)"
   ]
  },
  {
   "cell_type": "code",
   "execution_count": 4,
   "id": "293cf18a-7519-41ee-b6f7-e644ac67b5cd",
   "metadata": {},
   "outputs": [
    {
     "data": {
      "text/plain": [
       "'삼성전자'"
      ]
     },
     "execution_count": 4,
     "metadata": {},
     "output_type": "execute_result"
    }
   ],
   "source": [
    "company_list[0]"
   ]
  },
  {
   "cell_type": "code",
   "execution_count": 5,
   "id": "ad42cf9c-5297-42fa-a3cd-3921e3e83db7",
   "metadata": {},
   "outputs": [
    {
     "data": {
      "text/plain": [
       "'sk하이닉스'"
      ]
     },
     "execution_count": 5,
     "metadata": {},
     "output_type": "execute_result"
    }
   ],
   "source": [
    "company_list[1]"
   ]
  },
  {
   "cell_type": "code",
   "execution_count": 6,
   "id": "877b1941-513e-4a6b-aa6e-e77029031bfe",
   "metadata": {},
   "outputs": [
    {
     "data": {
      "text/plain": [
       "'네이버'"
      ]
     },
     "execution_count": 6,
     "metadata": {},
     "output_type": "execute_result"
    }
   ],
   "source": [
    "company_list[2]"
   ]
  },
  {
   "cell_type": "code",
   "execution_count": 7,
   "id": "a8357727-17bd-4eed-aa65-d45e385781a4",
   "metadata": {},
   "outputs": [
    {
     "data": {
      "text/plain": [
       "'네이버'"
      ]
     },
     "execution_count": 7,
     "metadata": {},
     "output_type": "execute_result"
    }
   ],
   "source": [
    "company_list[1]\n",
    "company_list[2]"
   ]
  },
  {
   "cell_type": "code",
   "execution_count": 13,
   "id": "9b5c6755-65af-4d8c-97c0-53efa86bb7da",
   "metadata": {},
   "outputs": [
    {
     "name": "stdout",
     "output_type": "stream",
     "text": [
      "sk하이닉스\n",
      "네이버\n"
     ]
    }
   ],
   "source": [
    "print(company_list[1])\n",
    "print(company_list[2])\n",
    "\n",
    "# 같은 칸에 여러 값 넣으려면 print"
   ]
  },
  {
   "cell_type": "code",
   "execution_count": 12,
   "id": "01e0d48b-540d-4396-b09b-285a918e5476",
   "metadata": {},
   "outputs": [
    {
     "name": "stdout",
     "output_type": "stream",
     "text": [
      "네이버\n",
      "sk하이닉스\n"
     ]
    }
   ],
   "source": [
    "print(company_list[-1])\n",
    "print(company_list[-2])\n",
    "\n",
    "# -1 은 뒤에서첫번쨰"
   ]
  },
  {
   "cell_type": "code",
   "execution_count": 15,
   "id": "4251ba25-48ae-48e2-b50f-825dc1281134",
   "metadata": {},
   "outputs": [
    {
     "data": {
      "text/plain": [
       "['애플', '구글', '테슬라']"
      ]
     },
     "execution_count": 15,
     "metadata": {},
     "output_type": "execute_result"
    }
   ],
   "source": [
    "company_list[0] ='애플'\n",
    "company_list[1] ='구글'\n",
    "company_list[2] ='테슬라'\n",
    "company_list"
   ]
  },
  {
   "cell_type": "code",
   "execution_count": 17,
   "id": "07576212-9c32-4d43-89f1-23bfa01a1c21",
   "metadata": {},
   "outputs": [
    {
     "data": {
      "text/plain": [
       "['애플', '구글', '테슬라', '마이크로소프트', '마이크로소프트']"
      ]
     },
     "execution_count": 17,
     "metadata": {},
     "output_type": "execute_result"
    }
   ],
   "source": [
    "company_list.append('마이크로소프트')\n",
    "company_list\n",
    "# 리스트 추가하려면 append"
   ]
  },
  {
   "cell_type": "code",
   "execution_count": 19,
   "id": "a97992b2-b075-43b9-a356-d6c32993ed11",
   "metadata": {},
   "outputs": [
    {
     "data": {
      "text/plain": [
       "['테슬라', '마이크로소프트', '마이크로소프트']"
      ]
     },
     "execution_count": 19,
     "metadata": {},
     "output_type": "execute_result"
    }
   ],
   "source": [
    "del company_list[0]   # 리스트의 0 번째 삭제\n",
    "company_list"
   ]
  },
  {
   "cell_type": "code",
   "execution_count": 22,
   "id": "b6e598d8-e079-426b-a95c-a18adc24869d",
   "metadata": {},
   "outputs": [
    {
     "data": {
      "text/plain": [
       "3"
      ]
     },
     "execution_count": 22,
     "metadata": {},
     "output_type": "execute_result"
    }
   ],
   "source": [
    "len(company_list)  # 리스트 요소의 갯수"
   ]
  },
  {
   "cell_type": "code",
   "execution_count": 29,
   "id": "c46c6f18-74b5-4469-ab8e-e9d53b8678cf",
   "metadata": {},
   "outputs": [
    {
     "data": {
      "text/plain": [
       "[1, 2, 3, 4, 5, 6, 7, 8, 9]"
      ]
     },
     "execution_count": 29,
     "metadata": {},
     "output_type": "execute_result"
    }
   ],
   "source": [
    "num_list = [1,2,3,4,5,6,7,8,9]\n",
    "num_list"
   ]
  },
  {
   "cell_type": "code",
   "execution_count": 30,
   "id": "ad4793f2-9189-4104-a7cc-53e4d5ca6255",
   "metadata": {},
   "outputs": [
    {
     "data": {
      "text/plain": [
       "1"
      ]
     },
     "execution_count": 30,
     "metadata": {},
     "output_type": "execute_result"
    }
   ],
   "source": [
    "num_list[0]"
   ]
  },
  {
   "cell_type": "code",
   "execution_count": 31,
   "id": "990468dc-f48c-427e-b071-07daed70656b",
   "metadata": {},
   "outputs": [
    {
     "data": {
      "text/plain": [
       "[1, 2, 3, 4]"
      ]
     },
     "execution_count": 31,
     "metadata": {},
     "output_type": "execute_result"
    }
   ],
   "source": [
    "num_list[0:4]"
   ]
  },
  {
   "cell_type": "code",
   "execution_count": 32,
   "id": "1b8f10ec-8823-41b0-8e07-0aa950da6588",
   "metadata": {},
   "outputs": [
    {
     "data": {
      "text/plain": [
       "[1, 2, 3, 4]"
      ]
     },
     "execution_count": 32,
     "metadata": {},
     "output_type": "execute_result"
    }
   ],
   "source": [
    "num_list[:4]"
   ]
  },
  {
   "cell_type": "code",
   "execution_count": 33,
   "id": "6b4eb4c6-45bf-4ab6-b702-567461f2e07b",
   "metadata": {},
   "outputs": [
    {
     "data": {
      "text/plain": [
       "[3, 4, 5]"
      ]
     },
     "execution_count": 33,
     "metadata": {},
     "output_type": "execute_result"
    }
   ],
   "source": [
    "num_list[2:5]"
   ]
  },
  {
   "cell_type": "code",
   "execution_count": 34,
   "id": "fd4ffcf5-c456-4c3d-93da-8c33d23c15d2",
   "metadata": {},
   "outputs": [
    {
     "data": {
      "text/plain": [
       "[6, 7, 8, 9]"
      ]
     },
     "execution_count": 34,
     "metadata": {},
     "output_type": "execute_result"
    }
   ],
   "source": [
    "num_list[5:]"
   ]
  },
  {
   "cell_type": "code",
   "execution_count": 38,
   "id": "513d0a57-40fe-452f-bc8f-90180b630c94",
   "metadata": {},
   "outputs": [
    {
     "data": {
      "text/plain": [
       "[1, 2, 3, 4, 5, 6, 7, 8, 9]"
      ]
     },
     "execution_count": 38,
     "metadata": {},
     "output_type": "execute_result"
    }
   ],
   "source": [
    "num_list[:]   ##전체"
   ]
  },
  {
   "cell_type": "code",
   "execution_count": 40,
   "id": "4cadc60d-5ccc-4b82-b078-419f27870e8a",
   "metadata": {},
   "outputs": [
    {
     "data": {
      "text/plain": [
       "[1, 3, 5, 7, 9]"
      ]
     },
     "execution_count": 40,
     "metadata": {},
     "output_type": "execute_result"
    }
   ],
   "source": [
    "num_list[::2]    #2씩증가    #초기:목표-1:증가치"
   ]
  },
  {
   "cell_type": "code",
   "execution_count": 42,
   "id": "ceff7759-2097-4765-9a4f-64c777ec6a30",
   "metadata": {},
   "outputs": [
    {
     "name": "stdout",
     "output_type": "stream",
     "text": [
      "대검을(를) 확인했습니다\n",
      "창닫기\n",
      "포션을(를) 확인했습니다\n",
      "창닫기\n",
      "마법서을(를) 확인했습니다\n",
      "창닫기\n"
     ]
    }
   ],
   "source": [
    "inventory = ['대검','포션','마법서']\n",
    "\n",
    "for item in inventory:\n",
    "    print(item + '을(를) 확인했습니다')\n",
    "    print('창닫기')"
   ]
  },
  {
   "cell_type": "code",
   "execution_count": 49,
   "id": "6febaa38-6aa2-4420-b862-2b74e24fa78b",
   "metadata": {},
   "outputs": [],
   "source": [
    "game_map = [           # 리스트 안에 또다른 리스트   [   # 리스트 [ 리스트  [  ],[  ],[  ]    ]\n",
    "    [1,2],\n",
    "    [2,3],\n",
    "    [3,4]\n",
    "\n",
    "]\n"
   ]
  },
  {
   "cell_type": "code",
   "execution_count": 48,
   "id": "bb567c4a-65a9-4980-b20a-688b0a3837fb",
   "metadata": {},
   "outputs": [
    {
     "name": "stdout",
     "output_type": "stream",
     "text": [
      "[1, 2]\n",
      "item  1\n",
      "item  2\n",
      "[2, 3]\n",
      "item  2\n",
      "item  3\n",
      "[3, 4]\n",
      "item  3\n",
      "item  4\n"
     ]
    }
   ],
   "source": [
    "for game in game_map:\n",
    "    print(game)\n",
    "    for item in game:\n",
    "        print('item ',item)"
   ]
  },
  {
   "cell_type": "code",
   "execution_count": 60,
   "id": "934ad532-8834-430b-a40f-687aaa744105",
   "metadata": {},
   "outputs": [],
   "source": [
    "game_map = [       \n",
    "    ['대검','포션',None],\n",
    "    [None,'보물상자','포션'],\n",
    "    ['몬스터','열쇠']\n",
    "\n",
    "]\n"
   ]
  },
  {
   "cell_type": "code",
   "execution_count": 51,
   "id": "d261f3b1-69eb-4d20-8ced-a476185ec9bb",
   "metadata": {},
   "outputs": [
    {
     "name": "stdout",
     "output_type": "stream",
     "text": [
      "['대검', '포션', None]\n",
      "item  대검\n",
      "item  포션\n",
      "item  None\n",
      "[None, '보물상자', '포션']\n",
      "item  None\n",
      "item  보물상자\n",
      "item  포션\n",
      "['몬스터', None, '열쇠']\n",
      "item  몬스터\n",
      "item  None\n",
      "item  열쇠\n"
     ]
    }
   ],
   "source": [
    "for game in game_map:\n",
    "    print(game)\n",
    "    for item in game:\n",
    "        print('item ',item)"
   ]
  },
  {
   "cell_type": "code",
   "execution_count": 54,
   "id": "7950116f-8c3b-4c54-af37-082ccec2cbe3",
   "metadata": {},
   "outputs": [
    {
     "data": {
      "text/plain": [
       "str"
      ]
     },
     "execution_count": 54,
     "metadata": {},
     "output_type": "execute_result"
    }
   ],
   "source": [
    "type(game_map[0][0])"
   ]
  },
  {
   "cell_type": "code",
   "execution_count": 55,
   "id": "36a55426-8bc5-4574-aaab-42c3caaa0200",
   "metadata": {},
   "outputs": [
    {
     "data": {
      "text/plain": [
       "'포션'"
      ]
     },
     "execution_count": 55,
     "metadata": {},
     "output_type": "execute_result"
    }
   ],
   "source": [
    "game_map[0][1]"
   ]
  },
  {
   "cell_type": "code",
   "execution_count": 59,
   "id": "b0ddce3c-afe3-48dd-9299-2b0a1c1f50f3",
   "metadata": {},
   "outputs": [
    {
     "data": {
      "text/plain": [
       "'보물상자'"
      ]
     },
     "execution_count": 59,
     "metadata": {},
     "output_type": "execute_result"
    }
   ],
   "source": [
    "game_map[1][1]"
   ]
  },
  {
   "cell_type": "code",
   "execution_count": 64,
   "id": "61869fb0-4b1c-4457-afef-b3956eaae5ff",
   "metadata": {},
   "outputs": [
    {
     "ename": "IndexError",
     "evalue": "list index out of range",
     "output_type": "error",
     "traceback": [
      "\u001b[1;31m---------------------------------------------------------------------------\u001b[0m",
      "\u001b[1;31mIndexError\u001b[0m                                Traceback (most recent call last)",
      "Cell \u001b[1;32mIn[64], line 1\u001b[0m\n\u001b[1;32m----> 1\u001b[0m game_map[\u001b[38;5;241m2\u001b[39m][\u001b[38;5;241m2\u001b[39m]\n",
      "\u001b[1;31mIndexError\u001b[0m: list index out of range"
     ]
    }
   ],
   "source": [
    "game_map[2][2]     #주의해서 사용"
   ]
  },
  {
   "cell_type": "code",
   "execution_count": 66,
   "id": "d6bb54e4-a25a-4047-8a4e-e8e4cc716339",
   "metadata": {},
   "outputs": [
    {
     "name": "stdout",
     "output_type": "stream",
     "text": [
      "최고 점수 :  200\n"
     ]
    }
   ],
   "source": [
    "# 최고 점수 찾기\n",
    "\n",
    "scores = [120, 150, 180, 200, 170]\n",
    "max_score = 0\n",
    "\n",
    "for score in scores:\n",
    "    if score > max_score:\n",
    "        max_score = score\n",
    "print('최고 점수 : ', max_score)"
   ]
  },
  {
   "cell_type": "code",
   "execution_count": 91,
   "id": "84ef45b4-ed46-4317-9ad4-54685e24dd99",
   "metadata": {},
   "outputs": [],
   "source": [
    "def user_max(scores, max_score=0):\n",
    "    for score in scores:\n",
    "        if score > max_score:\n",
    "            max_score = score\n",
    "    return max_score"
   ]
  },
  {
   "cell_type": "code",
   "execution_count": 92,
   "id": "16973aec-4713-4ebf-9ad4-7af024a7391c",
   "metadata": {},
   "outputs": [
    {
     "ename": "UnboundLocalError",
     "evalue": "cannot access local variable 'max_score' where it is not associated with a value",
     "output_type": "error",
     "traceback": [
      "\u001b[1;31m---------------------------------------------------------------------------\u001b[0m",
      "\u001b[1;31mUnboundLocalError\u001b[0m                         Traceback (most recent call last)",
      "Cell \u001b[1;32mIn[92], line 2\u001b[0m\n\u001b[0;32m      1\u001b[0m scores \u001b[38;5;241m=\u001b[39m [\u001b[38;5;241m120\u001b[39m, \u001b[38;5;241m150\u001b[39m, \u001b[38;5;241m180\u001b[39m, \u001b[38;5;241m200\u001b[39m, \u001b[38;5;241m170\u001b[39m]\n\u001b[1;32m----> 2\u001b[0m user_max(scores)\n",
      "Cell \u001b[1;32mIn[91], line 3\u001b[0m, in \u001b[0;36muser_max\u001b[1;34m(scores, max_scores)\u001b[0m\n\u001b[0;32m      1\u001b[0m \u001b[38;5;28;01mdef\u001b[39;00m \u001b[38;5;21muser_max\u001b[39m(scores, max_scores\u001b[38;5;241m=\u001b[39m\u001b[38;5;241m0\u001b[39m):\n\u001b[0;32m      2\u001b[0m     \u001b[38;5;28;01mfor\u001b[39;00m score \u001b[38;5;129;01min\u001b[39;00m scores:\n\u001b[1;32m----> 3\u001b[0m         \u001b[38;5;28;01mif\u001b[39;00m score \u001b[38;5;241m>\u001b[39m max_score:\n\u001b[0;32m      4\u001b[0m             max_score \u001b[38;5;241m=\u001b[39m score\n\u001b[0;32m      5\u001b[0m     \u001b[38;5;28;01mreturn\u001b[39;00m max_score\n",
      "\u001b[1;31mUnboundLocalError\u001b[0m: cannot access local variable 'max_score' where it is not associated with a value"
     ]
    }
   ],
   "source": [
    "scores = [120, 150, 180, 200, 170]\n",
    "user_max(scores)"
   ]
  },
  {
   "cell_type": "code",
   "execution_count": 67,
   "id": "8baa42bc-c846-4fa0-81cd-3dfb0bc5d56f",
   "metadata": {},
   "outputs": [
    {
     "data": {
      "text/plain": [
       "200"
      ]
     },
     "execution_count": 67,
     "metadata": {},
     "output_type": "execute_result"
    }
   ],
   "source": [
    "max(scores)"
   ]
  },
  {
   "cell_type": "code",
   "execution_count": 68,
   "id": "04c8f0ce-1d9e-45fc-9901-d88633374411",
   "metadata": {},
   "outputs": [
    {
     "data": {
      "text/plain": [
       "120"
      ]
     },
     "execution_count": 68,
     "metadata": {},
     "output_type": "execute_result"
    }
   ],
   "source": [
    "min(scores)"
   ]
  },
  {
   "cell_type": "code",
   "execution_count": 70,
   "id": "9eef5c7e-a9c2-426b-91a9-cef65eca01ee",
   "metadata": {},
   "outputs": [
    {
     "data": {
      "text/plain": [
       "820"
      ]
     },
     "execution_count": 70,
     "metadata": {},
     "output_type": "execute_result"
    }
   ],
   "source": [
    "sum(scores)"
   ]
  },
  {
   "cell_type": "code",
   "execution_count": 88,
   "id": "91a2d4ce-18d2-4891-8953-119a94ebbced",
   "metadata": {},
   "outputs": [
    {
     "name": "stdout",
     "output_type": "stream",
     "text": [
      "17\n"
     ]
    }
   ],
   "source": [
    "# 실습 문제 : 합계 구하기\n",
    "\n",
    "rooms = [\n",
    "    [3, 1, 2],\n",
    "    [2, 0, 1],\n",
    "    [1, 3, 4]\n",
    "]\n",
    "\n",
    "total = sum(sum(a) for a in rooms)\n",
    "print(total)\n"
   ]
  },
  {
   "cell_type": "code",
   "execution_count": 89,
   "id": "7aca6438-e467-4bfd-9d67-552d48a28958",
   "metadata": {},
   "outputs": [
    {
     "ename": "SyntaxError",
     "evalue": "expected ':' (2687949005.py, line 9)",
     "output_type": "error",
     "traceback": [
      "\u001b[1;36m  Cell \u001b[1;32mIn[89], line 9\u001b[1;36m\u001b[0m\n\u001b[1;33m    for room in rooms\u001b[0m\n\u001b[1;37m                     ^\u001b[0m\n\u001b[1;31mSyntaxError\u001b[0m\u001b[1;31m:\u001b[0m expected ':'\n"
     ]
    }
   ],
   "source": [
    "# 실습 문제 : 합계 구하기\n",
    "\n",
    "rooms = [\n",
    "    [3, 1, 2],\n",
    "    [2, 0, 1],\n",
    "    [1, 3, 4]\n",
    "]\n",
    "\n",
    "for room in rooms:\n",
    "    "
   ]
  },
  {
   "cell_type": "code",
   "execution_count": null,
   "id": "b384e3f9-57e4-4bc8-9a91-72baf6ff9c49",
   "metadata": {},
   "outputs": [],
   "source": []
  }
 ],
 "metadata": {
  "kernelspec": {
   "display_name": "Python 3 (ipykernel)",
   "language": "python",
   "name": "python3"
  },
  "language_info": {
   "codemirror_mode": {
    "name": "ipython",
    "version": 3
   },
   "file_extension": ".py",
   "mimetype": "text/x-python",
   "name": "python",
   "nbconvert_exporter": "python",
   "pygments_lexer": "ipython3",
   "version": "3.12.8"
  }
 },
 "nbformat": 4,
 "nbformat_minor": 5
}
