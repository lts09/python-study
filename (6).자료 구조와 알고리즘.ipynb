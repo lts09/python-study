{
 "cells": [
  {
   "cell_type": "markdown",
   "id": "384214a9-7999-460e-bc08-7d59a00183c4",
   "metadata": {},
   "source": [
    "## 최댓값 찾기"
   ]
  },
  {
   "cell_type": "code",
   "execution_count": 5,
   "id": "ad5b6072-91b9-457a-bc00-e39973ee72ce",
   "metadata": {},
   "outputs": [
    {
     "name": "stdout",
     "output_type": "stream",
     "text": [
      "17\n"
     ]
    }
   ],
   "source": [
    "ca = [10,17,13,11]\n",
    "\n",
    "max=ca[0]\n",
    "if max < ca[1]:\n",
    "    max =ca[1]\n",
    "\n",
    "if max < ca[2]:\n",
    "    max=ca[2]\n",
    "\n",
    "if max < ca[3]:\n",
    "    max=ca[3]\n",
    "\n",
    "print(max)"
   ]
  },
  {
   "cell_type": "markdown",
   "id": "0f5f685c-c656-4196-9c78-059b00a08974",
   "metadata": {},
   "source": [
    "# for문을 사용하여 최댓값 찾기"
   ]
  },
  {
   "cell_type": "code",
   "execution_count": 7,
   "id": "c46ca351-1101-416a-a6fd-cef86fec766d",
   "metadata": {},
   "outputs": [
    {
     "name": "stdout",
     "output_type": "stream",
     "text": [
      "17\n"
     ]
    }
   ],
   "source": [
    "ca = [10,17,13,11]\n",
    "\n",
    "max=ca[0]\n",
    "for sb in range(1,4):\n",
    "    if max < ca[sb]:\n",
    "        max =ca[sb]\n",
    "\n",
    "print(max)"
   ]
  },
  {
   "cell_type": "markdown",
   "id": "fd39bf3c-6eb3-487c-bd88-45487a8588cd",
   "metadata": {},
   "source": [
    "# 원소의 갯수를 모를 경우"
   ]
  },
  {
   "cell_type": "code",
   "execution_count": 16,
   "id": "07fca6de-5a89-4a79-9851-652f14d92abc",
   "metadata": {},
   "outputs": [
    {
     "ename": "TypeError",
     "evalue": "'<' not supported between instances of 'list' and 'int'",
     "output_type": "error",
     "traceback": [
      "\u001b[1;31m---------------------------------------------------------------------------\u001b[0m",
      "\u001b[1;31mTypeError\u001b[0m                                 Traceback (most recent call last)",
      "Cell \u001b[1;32mIn[16], line 5\u001b[0m\n\u001b[0;32m      3\u001b[0m \u001b[38;5;28mmax\u001b[39m\u001b[38;5;241m=\u001b[39mca[\u001b[38;5;241m0\u001b[39m]\n\u001b[0;32m      4\u001b[0m \u001b[38;5;28;01mfor\u001b[39;00m sb \u001b[38;5;129;01min\u001b[39;00m ca:\n\u001b[1;32m----> 5\u001b[0m     \u001b[38;5;28;01mif\u001b[39;00m \u001b[38;5;28mmax\u001b[39m \u001b[38;5;241m<\u001b[39m sb:\n\u001b[0;32m      6\u001b[0m         \u001b[38;5;28mmax\u001b[39m \u001b[38;5;241m=\u001b[39m [sb]\n\u001b[0;32m      8\u001b[0m \u001b[38;5;28mprint\u001b[39m(\u001b[38;5;28mmax\u001b[39m)\n",
      "\u001b[1;31mTypeError\u001b[0m: '<' not supported between instances of 'list' and 'int'"
     ]
    }
   ],
   "source": [
    "ca = [10,17,13,11]\n",
    "\n",
    "max=ca[0]\n",
    "for sb in ca:\n",
    "    if max < sb:\n",
    "        max = [sb]\n",
    "\n",
    "print(max)"
   ]
  },
  {
   "cell_type": "code",
   "execution_count": 10,
   "id": "7279c1d8-2ffb-4c2a-a8d3-306cb4a4d5ca",
   "metadata": {},
   "outputs": [
    {
     "name": "stdout",
     "output_type": "stream",
     "text": [
      "17\n"
     ]
    }
   ],
   "source": [
    "ca = [10,17,13,11]\n",
    "\n",
    "max=ca[0]\n",
    "for sb in range(1,len(ca)):\n",
    "    if maxc < ca[sb]:\n",
    "        maxc =ca[sb]\n",
    "\n",
    "print(max)"
   ]
  },
  {
   "cell_type": "code",
   "execution_count": 12,
   "id": "022bb46d-1d6d-40d7-ad79-16637d9b2041",
   "metadata": {},
   "outputs": [],
   "source": [
    "del max"
   ]
  },
  {
   "cell_type": "code",
   "execution_count": 13,
   "id": "b818594f-bbbd-4e9a-922d-83397ffacb9f",
   "metadata": {},
   "outputs": [
    {
     "data": {
      "text/plain": [
       "17"
      ]
     },
     "execution_count": 13,
     "metadata": {},
     "output_type": "execute_result"
    }
   ],
   "source": [
    "ca= [ 10,17,13,11]\n",
    "max(ca)"
   ]
  },
  {
   "cell_type": "markdown",
   "id": "0dd2a765-b282-45bf-8501-e4693ac5a1d9",
   "metadata": {},
   "source": [
    "# 원소의 정렬"
   ]
  },
  {
   "cell_type": "code",
   "execution_count": 19,
   "id": "52692f1f-aba5-4138-ba59-7ab02f9dbcd9",
   "metadata": {},
   "outputs": [
    {
     "name": "stdout",
     "output_type": "stream",
     "text": [
      "[13, 10, 11, 15, 21]\n"
     ]
    }
   ],
   "source": [
    "ca= [ 21,10,11,15,13]\n",
    "\n",
    "mina = ca[0]\n",
    "minix = 0\n",
    "\n",
    "for sb in range(1,len(ca)):\n",
    "    if mina > ca[sb]:\n",
    "        mina = ca[sb]\n",
    "    minix = sb\n",
    "temp = ca[0]\n",
    "ca[0] = ca[minix]\n",
    "ca[minix] = temp\n",
    "\n",
    "print(ca)"
   ]
  },
  {
   "cell_type": "code",
   "execution_count": 26,
   "id": "effe877d-b230-49df-8cb7-b31fa0968a46",
   "metadata": {},
   "outputs": [
    {
     "name": "stdout",
     "output_type": "stream",
     "text": [
      "[21, 10, 11, 15, 13]\n",
      "[21, 10, 11, 15, 13]\n",
      "[21, 10, 11, 15, 13]\n",
      "[21, 10, 11, 15, 13]\n"
     ]
    }
   ],
   "source": [
    "ca= [ 21,10,11,15,13]\n",
    "for sa in range(0,len(ca) -1):\n",
    "    mina = ca[1]\n",
    "    minix = sa\n",
    "\n",
    "    for sb in range(sa+1,len(ca)):\n",
    "        if mina > ca[sb]:\n",
    "            mina = ca[sb]\n",
    "            minix = sb\n",
    "        \n",
    "    temp = ca[sa]\n",
    "    ca[sa] = ca[minix]\n",
    "    ca[minix] = temp\n",
    "\n",
    "    print(ca)"
   ]
  },
  {
   "cell_type": "code",
   "execution_count": 25,
   "id": "cd9d2b10-4457-4d0c-9cb1-10d5a4ca6c08",
   "metadata": {},
   "outputs": [
    {
     "name": "stdout",
     "output_type": "stream",
     "text": [
      "[21, 10, 11, 15, 13]\n",
      "[21, 10, 11, 15, 13]\n",
      "[21, 10, 11, 15, 13]\n",
      "[21, 10, 11, 15, 13]\n",
      "[21, 10, 11, 15, 13]\n"
     ]
    }
   ],
   "source": [
    "def user_sort(ca):\n",
    "    for sa in range(0,len(ca) -1):\n",
    "        mina = ca[1]\n",
    "        minix = sa\n",
    "    \n",
    "        for sb in range(sa+1,len(ca)):\n",
    "            if mina > ca[sb]:\n",
    "                mina = ca[sb]\n",
    "                minix = sb\n",
    "            \n",
    "        temp = ca[sa]\n",
    "        ca[sa] = ca[minix]\n",
    "        ca[minix] = temp\n",
    "    \n",
    "        print(ca)\n",
    "ca= [ 21,10,11,15,13]\n",
    "user_sort(ca)\n",
    "print(ca)"
   ]
  },
  {
   "cell_type": "code",
   "execution_count": 28,
   "id": "dcf32e74-ac01-4c39-bad0-af71fe975855",
   "metadata": {},
   "outputs": [
    {
     "name": "stdout",
     "output_type": "stream",
     "text": [
      "[10, 11, 13, 15, 21]\n"
     ]
    }
   ],
   "source": [
    "ca= [ 21,10,11,15,13]\n",
    "ca.sort()\n",
    "print(ca)"
   ]
  },
  {
   "cell_type": "code",
   "execution_count": 29,
   "id": "3d2efd8e-e194-4bd5-a9d5-36c0f0c14093",
   "metadata": {},
   "outputs": [
    {
     "name": "stdout",
     "output_type": "stream",
     "text": [
      "[21, 15, 13, 11, 10]\n"
     ]
    }
   ],
   "source": [
    "ca= [ 21,10,11,15,13]\n",
    "ca.sort(reverse=True)\n",
    "print(ca)"
   ]
  },
  {
   "cell_type": "markdown",
   "id": "2e45cb44-2a10-4724-85be-59e56bbebb7e",
   "metadata": {},
   "source": [
    "# 딕셔너리를 매개변수로 사용하는 방법\n",
    "\n",
    "딕셔너리는  (key,value)"
   ]
  },
  {
   "cell_type": "code",
   "execution_count": 30,
   "id": "97ce86b7-a20a-4704-a9d5-67cee55b01ab",
   "metadata": {},
   "outputs": [
    {
     "name": "stdout",
     "output_type": "stream",
     "text": [
      "{'mon': '월', 'tue': '화', 'wed': '수'}\n"
     ]
    }
   ],
   "source": [
    "a = {'mon' : '월','tue' : '화','wed' : '수'}\n",
    "print(a)"
   ]
  },
  {
   "cell_type": "code",
   "execution_count": 31,
   "id": "30a02eb7-d7ff-4149-acba-b9952593c133",
   "metadata": {},
   "outputs": [
    {
     "name": "stdout",
     "output_type": "stream",
     "text": [
      "{'mon': '월', 'tue': '화', 'wed': '수'}\n"
     ]
    }
   ],
   "source": [
    "x = a\n",
    "print(x)"
   ]
  },
  {
   "cell_type": "code",
   "execution_count": 32,
   "id": "d04061ec-be37-4e63-a8a4-e456f5ac683a",
   "metadata": {},
   "outputs": [
    {
     "name": "stdout",
     "output_type": "stream",
     "text": [
      "{'mon': '일', 'tue': '화', 'wed': '수'}\n",
      "{'mon': '일', 'tue': '화', 'wed': '수'}\n"
     ]
    }
   ],
   "source": [
    "x['mon'] = '일'\n",
    "print(x)\n",
    "print(a)"
   ]
  },
  {
   "cell_type": "code",
   "execution_count": 33,
   "id": "88c8e8ec-a732-4aea-afc4-236ac69fe3dc",
   "metadata": {},
   "outputs": [
    {
     "name": "stdout",
     "output_type": "stream",
     "text": [
      "{'mon': '일', 'tue': '화', 'wed': '수'}\n"
     ]
    }
   ],
   "source": [
    "x = a\n",
    "print(x)"
   ]
  },
  {
   "cell_type": "code",
   "execution_count": 34,
   "id": "df25efe7-d067-4525-8b87-329db500dc5b",
   "metadata": {},
   "outputs": [],
   "source": [
    "def fch(x):\n",
    "    x['mon'] = '일'"
   ]
  },
  {
   "cell_type": "code",
   "execution_count": 36,
   "id": "b4fb0c08-1cb5-41f8-bf64-185fa9f67d9b",
   "metadata": {},
   "outputs": [
    {
     "name": "stdout",
     "output_type": "stream",
     "text": [
      "{'mon': '월', 'tue': '화', 'wed': '수'}\n",
      "{'mon': '월', 'tue': '화', 'wed': '수'}\n"
     ]
    }
   ],
   "source": [
    "a = {'mon' : '월','tue' : '화','wed' : '수'}\n",
    "print(a)\n",
    "x = a\n",
    "print(x)"
   ]
  },
  {
   "cell_type": "code",
   "execution_count": 37,
   "id": "c5ae1506-db0b-4f26-bb77-d829237d0b05",
   "metadata": {},
   "outputs": [
    {
     "name": "stdout",
     "output_type": "stream",
     "text": [
      "함수 실행 전 :  {'mon': '월', 'tue': '화', 'wed': '수'}\n",
      "함수 실행 후 :  {'mon': '일', 'tue': '화', 'wed': '수'}\n"
     ]
    }
   ],
   "source": [
    "print(\"함수 실행 전 : \", a)\n",
    "fch(a)\n",
    "print(\"함수 실행 후 : \", a)"
   ]
  },
  {
   "cell_type": "code",
   "execution_count": 38,
   "id": "d047a13b-873c-4dd3-9172-bfd7cffaf567",
   "metadata": {},
   "outputs": [
    {
     "name": "stdout",
     "output_type": "stream",
     "text": [
      "함수 실행 후  :  {'mon': '일', 'tue': '화', 'wed': '수'}\n"
     ]
    }
   ],
   "source": [
    "print(\"함수 실행 후  : \", x)"
   ]
  },
  {
   "cell_type": "markdown",
   "id": "55b64442-2c0a-46bf-ab6f-f5fd398c7a1e",
   "metadata": {},
   "source": [
    "# *args 에서 \" * \" 의 의미 : 매개변수가 유동적일때 \" * \" 사용함"
   ]
  },
  {
   "cell_type": "code",
   "execution_count": 40,
   "id": "feff9684-3677-48a8-b755-e2909abcbbb4",
   "metadata": {},
   "outputs": [
    {
     "name": "stdout",
     "output_type": "stream",
     "text": [
      "1\n",
      "2\n",
      "3\n",
      "4\n",
      "5\n"
     ]
    }
   ],
   "source": [
    "def my_func(*args):\n",
    "    for arg in args:\n",
    "        print(arg)\n",
    "        \n",
    "my_func(1,2,3,4,5)"
   ]
  },
  {
   "cell_type": "code",
   "execution_count": 41,
   "id": "9e478bbf-6631-4eaf-ae97-15a65f9f698d",
   "metadata": {},
   "outputs": [
    {
     "name": "stdout",
     "output_type": "stream",
     "text": [
      "1\n",
      "2\n",
      "3\n"
     ]
    }
   ],
   "source": [
    "my_func(1,2,3)"
   ]
  },
  {
   "cell_type": "code",
   "execution_count": 42,
   "id": "584cdac5-a23f-4cc3-b891-600a083c3661",
   "metadata": {},
   "outputs": [
    {
     "name": "stdout",
     "output_type": "stream",
     "text": [
      "1\n",
      "2\n",
      "3\n",
      "4\n",
      "5\n"
     ]
    }
   ],
   "source": [
    "def my_func(*xch):\n",
    "    for arg in xch:\n",
    "        print(arg)\n",
    "        \n",
    "my_func(1,2,3,4,5)"
   ]
  },
  {
   "cell_type": "markdown",
   "id": "51a8e3b1-b5af-4752-9633-23a366c55168",
   "metadata": {},
   "source": [
    "## **kwargs 에서  \" * * 의미 : 딕셔너리 데이터를 파라미터로 사용하는데 (유동적)"
   ]
  },
  {
   "cell_type": "code",
   "execution_count": 51,
   "id": "d4807f4a-64b6-40b2-a519-63454e9a99b0",
   "metadata": {},
   "outputs": [],
   "source": [
    "def my_func(**kwargs):\n",
    "    for key, value in kwargs.item():\n",
    "        print('key : ', key, ' value : ', value)"
   ]
  },
  {
   "cell_type": "code",
   "execution_count": 52,
   "id": "b09fe184-4dbc-4e23-ab0d-6d15ead56e86",
   "metadata": {},
   "outputs": [
    {
     "ename": "AttributeError",
     "evalue": "'dict' object has no attribute 'item'",
     "output_type": "error",
     "traceback": [
      "\u001b[1;31m---------------------------------------------------------------------------\u001b[0m",
      "\u001b[1;31mAttributeError\u001b[0m                            Traceback (most recent call last)",
      "Cell \u001b[1;32mIn[52], line 1\u001b[0m\n\u001b[1;32m----> 1\u001b[0m my_func(name\u001b[38;5;241m=\u001b[39m\u001b[38;5;124m'\u001b[39m\u001b[38;5;124mjohn\u001b[39m\u001b[38;5;124m'\u001b[39m ,age\u001b[38;5;241m=\u001b[39m\u001b[38;5;241m30\u001b[39m, gender\u001b[38;5;241m=\u001b[39m\u001b[38;5;124m'\u001b[39m\u001b[38;5;124mMale\u001b[39m\u001b[38;5;124m'\u001b[39m, loc\u001b[38;5;241m=\u001b[39m\u001b[38;5;124m'\u001b[39m\u001b[38;5;124m서울시\u001b[39m\u001b[38;5;124m'\u001b[39m)\n",
      "Cell \u001b[1;32mIn[51], line 2\u001b[0m, in \u001b[0;36mmy_func\u001b[1;34m(**kwargs)\u001b[0m\n\u001b[0;32m      1\u001b[0m \u001b[38;5;28;01mdef\u001b[39;00m \u001b[38;5;21mmy_func\u001b[39m(\u001b[38;5;241m*\u001b[39m\u001b[38;5;241m*\u001b[39mkwargs):\n\u001b[1;32m----> 2\u001b[0m     \u001b[38;5;28;01mfor\u001b[39;00m key, value \u001b[38;5;129;01min\u001b[39;00m kwargs\u001b[38;5;241m.\u001b[39mitem():\n\u001b[0;32m      3\u001b[0m         \u001b[38;5;28mprint\u001b[39m(\u001b[38;5;124m'\u001b[39m\u001b[38;5;124mkey : \u001b[39m\u001b[38;5;124m'\u001b[39m, key, \u001b[38;5;124m'\u001b[39m\u001b[38;5;124m value : \u001b[39m\u001b[38;5;124m'\u001b[39m, value)\n",
      "\u001b[1;31mAttributeError\u001b[0m: 'dict' object has no attribute 'item'"
     ]
    }
   ],
   "source": [
    "my_func(name='john' ,age=30, gender='Male', loc='서울시')"
   ]
  },
  {
   "cell_type": "code",
   "execution_count": 46,
   "id": "517eeb91-5309-4486-835c-513bc556d93b",
   "metadata": {},
   "outputs": [],
   "source": [
    "def my_func(*args,**kwargs):\n",
    "    for arg in args:\n",
    "        print(arg)\n",
    "        \n",
    "    for key,value in kwargs.item():\n",
    "        print('key : ', key, ' value : ', value)"
   ]
  },
  {
   "cell_type": "code",
   "execution_count": 49,
   "id": "b083c958-1831-4bcd-aa29-61c8fbf00e87",
   "metadata": {},
   "outputs": [
    {
     "name": "stdout",
     "output_type": "stream",
     "text": [
      "1\n",
      "2\n",
      "3\n",
      "4\n",
      "5\n"
     ]
    },
    {
     "ename": "AttributeError",
     "evalue": "'dict' object has no attribute 'item'",
     "output_type": "error",
     "traceback": [
      "\u001b[1;31m---------------------------------------------------------------------------\u001b[0m",
      "\u001b[1;31mAttributeError\u001b[0m                            Traceback (most recent call last)",
      "Cell \u001b[1;32mIn[49], line 1\u001b[0m\n\u001b[1;32m----> 1\u001b[0m my_func(\u001b[38;5;241m1\u001b[39m,\u001b[38;5;241m2\u001b[39m,\u001b[38;5;241m3\u001b[39m,\u001b[38;5;241m4\u001b[39m,\u001b[38;5;241m5\u001b[39m, name\u001b[38;5;241m=\u001b[39m\u001b[38;5;124m'\u001b[39m\u001b[38;5;124mjohn\u001b[39m\u001b[38;5;124m'\u001b[39m ,age\u001b[38;5;241m=\u001b[39m\u001b[38;5;241m30\u001b[39m, gender\u001b[38;5;241m=\u001b[39m\u001b[38;5;124m'\u001b[39m\u001b[38;5;124mMale\u001b[39m\u001b[38;5;124m'\u001b[39m, loc\u001b[38;5;241m=\u001b[39m\u001b[38;5;124m'\u001b[39m\u001b[38;5;124m 서울시\u001b[39m\u001b[38;5;124m'\u001b[39m)\n",
      "Cell \u001b[1;32mIn[46], line 5\u001b[0m, in \u001b[0;36mmy_func\u001b[1;34m(*args, **kwargs)\u001b[0m\n\u001b[0;32m      2\u001b[0m \u001b[38;5;28;01mfor\u001b[39;00m arg \u001b[38;5;129;01min\u001b[39;00m args:\n\u001b[0;32m      3\u001b[0m     \u001b[38;5;28mprint\u001b[39m(arg)\n\u001b[1;32m----> 5\u001b[0m \u001b[38;5;28;01mfor\u001b[39;00m key,value \u001b[38;5;129;01min\u001b[39;00m kwargs\u001b[38;5;241m.\u001b[39mitem():\n\u001b[0;32m      6\u001b[0m     \u001b[38;5;28mprint\u001b[39m(\u001b[38;5;124m'\u001b[39m\u001b[38;5;124mkey : \u001b[39m\u001b[38;5;124m'\u001b[39m, key, \u001b[38;5;124m'\u001b[39m\u001b[38;5;124m value : \u001b[39m\u001b[38;5;124m'\u001b[39m, value)\n",
      "\u001b[1;31mAttributeError\u001b[0m: 'dict' object has no attribute 'item'"
     ]
    }
   ],
   "source": [
    "my_func(1,2,3,4,5, name='john' ,age=30, gender='Male', loc=' 서울시')"
   ]
  },
  {
   "cell_type": "code",
   "execution_count": null,
   "id": "ab16b3cd-4663-4d1a-a95a-be7c53543c33",
   "metadata": {},
   "outputs": [],
   "source": []
  }
 ],
 "metadata": {
  "kernelspec": {
   "display_name": "Python 3 (ipykernel)",
   "language": "python",
   "name": "python3"
  },
  "language_info": {
   "codemirror_mode": {
    "name": "ipython",
    "version": 3
   },
   "file_extension": ".py",
   "mimetype": "text/x-python",
   "name": "python",
   "nbconvert_exporter": "python",
   "pygments_lexer": "ipython3",
   "version": "3.12.8"
  }
 },
 "nbformat": 4,
 "nbformat_minor": 5
}
