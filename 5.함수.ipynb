{
 "cells": [
  {
   "cell_type": "code",
   "execution_count": 8,
   "id": "9fbfb099-e97a-46ea-b313-9ae730c53d0f",
   "metadata": {},
   "outputs": [],
   "source": [
    "# 함수는 def 함수명 ( 함수 안에서 사용할 변수들 ):\n",
    "\n",
    "def add(a,b):\n",
    "    return a + b\n",
    "\n",
    "def sub(a,b):\n",
    "    return a - b\n",
    "\n",
    "def mul(a,b):\n",
    "    return a * b\n",
    "\n",
    "def div(a,b):\n",
    "    if b==0:\n",
    "        return \"b = 0\"\n",
    "    return a / b"
   ]
  },
  {
   "cell_type": "code",
   "execution_count": 3,
   "id": "3d5734bd-f831-44c9-a128-609c0e59de00",
   "metadata": {},
   "outputs": [
    {
     "data": {
      "text/plain": [
       "3"
      ]
     },
     "execution_count": 3,
     "metadata": {},
     "output_type": "execute_result"
    }
   ],
   "source": [
    "c= 1\n",
    "d= 2\n",
    "\n",
    "add(c,d)"
   ]
  },
  {
   "cell_type": "code",
   "execution_count": 9,
   "id": "1f1b87cd-8c34-4d61-a0d6-0cdf13d0bd41",
   "metadata": {},
   "outputs": [
    {
     "data": {
      "text/plain": [
       "2"
      ]
     },
     "execution_count": 9,
     "metadata": {},
     "output_type": "execute_result"
    }
   ],
   "source": [
    "mul(c,d)"
   ]
  },
  {
   "cell_type": "code",
   "execution_count": 10,
   "id": "81e5a3f9-7544-4305-8917-75f026e87ec7",
   "metadata": {},
   "outputs": [
    {
     "data": {
      "text/plain": [
       "0.5"
      ]
     },
     "execution_count": 10,
     "metadata": {},
     "output_type": "execute_result"
    }
   ],
   "source": [
    "div(c,d)"
   ]
  },
  {
   "cell_type": "code",
   "execution_count": 11,
   "id": "bfd3cd22-47f2-422d-945a-179fab26a7bf",
   "metadata": {},
   "outputs": [
    {
     "data": {
      "text/plain": [
       "'b = 0'"
      ]
     },
     "execution_count": 11,
     "metadata": {},
     "output_type": "execute_result"
    }
   ],
   "source": [
    "c= 1\n",
    "d= 0\n",
    "\n",
    "div(c,d)"
   ]
  },
  {
   "cell_type": "code",
   "execution_count": 19,
   "id": "602a9937-8a12-4ea3-aea9-9d62153ff3ce",
   "metadata": {},
   "outputs": [],
   "source": [
    "def user_avg(a,b,c):\n",
    "    avg= (a + b + c) / 3\n",
    "    return avg"
   ]
  },
  {
   "cell_type": "code",
   "execution_count": 20,
   "id": "4565435d-900b-407b-a83e-7f3b99606f69",
   "metadata": {},
   "outputs": [
    {
     "data": {
      "text/plain": [
       "2.0"
      ]
     },
     "execution_count": 20,
     "metadata": {},
     "output_type": "execute_result"
    }
   ],
   "source": [
    "result = user_avg(1,2,3)\n",
    "result"
   ]
  },
  {
   "cell_type": "code",
   "execution_count": 21,
   "id": "791b0396-5864-46fd-95e2-337e3f7ebd08",
   "metadata": {},
   "outputs": [],
   "source": [
    "def user_avg(a,b,c):\n",
    "    avg= (a + b + c) / d\n",
    "    return avg"
   ]
  },
  {
   "cell_type": "code",
   "execution_count": 33,
   "id": "d3db4437-fcb6-4736-a794-b61a9a418ec8",
   "metadata": {},
   "outputs": [],
   "source": [
    "d= 10      # 전역 변수 = 함수 안에서도 사용가능\n",
    "user_avg(1,2,3)"
   ]
  },
  {
   "cell_type": "code",
   "execution_count": 34,
   "id": "c4748559-a152-424a-8b46-452d125d36b5",
   "metadata": {},
   "outputs": [],
   "source": [
    "def user_avg(a,b,c):\n",
    "    global avg2   # global 은 지역변수\n",
    "    avg2 = (a+b+c)/d"
   ]
  },
  {
   "cell_type": "code",
   "execution_count": 31,
   "id": "b964da17-71a7-4f47-81d9-e46537397101",
   "metadata": {},
   "outputs": [],
   "source": [
    "user_avg(1,2,3)"
   ]
  },
  {
   "cell_type": "code",
   "execution_count": 32,
   "id": "8d93ba32-f4af-4d77-8b31-9b784dcbebcd",
   "metadata": {},
   "outputs": [
    {
     "name": "stdout",
     "output_type": "stream",
     "text": [
      "0.6\n"
     ]
    }
   ],
   "source": [
    "print(avg2)"
   ]
  },
  {
   "cell_type": "markdown",
   "id": "8d530c24-f1f8-4a57-850d-a38327e2d554",
   "metadata": {},
   "source": [
    "# 변수값의 교환 (swap)"
   ]
  },
  {
   "cell_type": "code",
   "execution_count": 38,
   "id": "bd85e963-c3f6-48bd-8165-10f6146bd595",
   "metadata": {},
   "outputs": [
    {
     "name": "stdout",
     "output_type": "stream",
     "text": [
      "swap전 na 값:  10\n",
      "swap후 na 값:  20\n"
     ]
    }
   ],
   "source": [
    "na = 10\n",
    "nb = 20\n",
    "\n",
    "print('swap전 na 값: ', na, )\n",
    "na  = nb\n",
    "print('swap후 na 값: ', na)\n"
   ]
  },
  {
   "cell_type": "code",
   "execution_count": 40,
   "id": "2d6ced77-204f-4961-a566-e3c54c5c8e89",
   "metadata": {},
   "outputs": [
    {
     "name": "stdout",
     "output_type": "stream",
     "text": [
      "swap전 na 값:  20\n",
      "swap후 na 값:  20\n"
     ]
    }
   ],
   "source": [
    "print('swap전 na 값: ', na)\n",
    "temp = na\n",
    "na  = nb\n",
    "na = temp\n",
    "print('swap후 na 값: ', na)\n"
   ]
  },
  {
   "cell_type": "code",
   "execution_count": 41,
   "id": "1d7fdffb-91d1-4fda-87a9-c0520d3f35a0",
   "metadata": {},
   "outputs": [
    {
     "name": "stdout",
     "output_type": "stream",
     "text": [
      "swap전 na 값:  10 swap전 nb 값:  20\n",
      "swap후 na 값:  20 swap후 nb 값:  10\n"
     ]
    }
   ],
   "source": [
    "na = 10\n",
    "nb = 20\n",
    "\n",
    "print('swap전 na 값: ', na, 'swap전 nb 값: ', nb)\n",
    "temp = na\n",
    "na  = nb\n",
    "nb = temp\n",
    "print('swap후 na 값: ', na, 'swap후 nb 값: ', nb)\n"
   ]
  },
  {
   "cell_type": "code",
   "execution_count": 43,
   "id": "ad17cfc3-50f9-4fe9-9401-180bb75ddb08",
   "metadata": {},
   "outputs": [
    {
     "name": "stdout",
     "output_type": "stream",
     "text": [
      "swap전 na 값:  10 swap전 nb 값:  20\n",
      "swap후 na 값:  10 swap후 nb 값:  20\n"
     ]
    }
   ],
   "source": [
    "def swapa(na, nb):\n",
    "    temp = na\n",
    "    na  = nb\n",
    "    nb = temp\n",
    "\n",
    "na = 10\n",
    "nb = 20\n",
    "\n",
    "print('swap전 na 값: ', na, 'swap전 nb 값: ', nb)\n",
    "swapa(na,nb)\n",
    "print('swap후 na 값: ', na, 'swap후 nb 값: ', nb)"
   ]
  },
  {
   "cell_type": "code",
   "execution_count": 46,
   "id": "99111917-b818-4201-8441-1c955da33b4b",
   "metadata": {},
   "outputs": [
    {
     "name": "stdout",
     "output_type": "stream",
     "text": [
      "swap전 na 값:  10 swap전 nb 값:  20\n",
      "swap후 na 값:  10 swap후 nb 값:  20\n"
     ]
    }
   ],
   "source": [
    "def swapa(pa, pb):\n",
    "    temp = pa\n",
    "    pa  = pb\n",
    "    pb = temp\n",
    "    return pa,pb\n",
    "    \n",
    "na = 10\n",
    "nb = 20\n",
    "\n",
    "print('swap전 na 값: ', na, 'swap전 nb 값: ', nb)\n",
    "swapa(na,nb)\n",
    "print('swap후 na 값: ', na, 'swap후 nb 값: ', nb)"
   ]
  },
  {
   "cell_type": "code",
   "execution_count": 49,
   "id": "4969b485-17c9-4ebf-88d8-dfa362b8f8dd",
   "metadata": {},
   "outputs": [
    {
     "name": "stdout",
     "output_type": "stream",
     "text": [
      "swap전 na 값:  10 swap전 nb 값:  20\n",
      "swap후 na 값:  20 swap후 nb 값:  10\n"
     ]
    }
   ],
   "source": [
    "def swapa():\n",
    "    global na,nb\n",
    "    temp = na\n",
    "    na  = nb\n",
    "    nb = temp\n",
    "\n",
    "na = 10\n",
    "nb = 20\n",
    "\n",
    "print('swap전 na 값: ', na, 'swap전 nb 값: ', nb)\n",
    "swapa()\n",
    "print('swap후 na 값: ', na, 'swap후 nb 값: ', nb)"
   ]
  },
  {
   "cell_type": "code",
   "execution_count": 51,
   "id": "d31fb856-196d-4f3e-b9c2-da43c919ccfc",
   "metadata": {},
   "outputs": [],
   "source": [
    "def persona(width,height):\n",
    "    print(\"함수 디폴트 값 없음, width = \",width, \" height = \",height)\n",
    "\n",
    "def personb(width=60,height=180):\n",
    "    print(\"함수 디폴트 값 없음, width = \",width, \" height = \",height)"
   ]
  },
  {
   "cell_type": "raw",
   "id": "e31bc084-5a57-4e75-a343-7d2a0c637227",
   "metadata": {},
   "source": [
    "persona(10,20)"
   ]
  },
  {
   "cell_type": "code",
   "execution_count": 52,
   "id": "32450be6-4d0c-410b-980a-1d60cc0730d9",
   "metadata": {},
   "outputs": [
    {
     "name": "stdout",
     "output_type": "stream",
     "text": [
      "함수 디폴트 값 없음, width =  60  height =  180\n"
     ]
    }
   ],
   "source": [
    "personb()"
   ]
  },
  {
   "cell_type": "code",
   "execution_count": 53,
   "id": "2be527d7-bce1-4c44-9d9d-65ac1da1b0e8",
   "metadata": {},
   "outputs": [
    {
     "name": "stdout",
     "output_type": "stream",
     "text": [
      "함수 디폴트 값 없음, width =  50  height =  180\n"
     ]
    }
   ],
   "source": [
    "personb(50)"
   ]
  },
  {
   "cell_type": "code",
   "execution_count": 54,
   "id": "6a7b9d4b-463e-4820-b7b9-320bb2949f77",
   "metadata": {},
   "outputs": [
    {
     "name": "stdout",
     "output_type": "stream",
     "text": [
      "함수 디폴트 값 없음, width =  50  height =  190\n"
     ]
    }
   ],
   "source": [
    "personb(50,190)"
   ]
  },
  {
   "cell_type": "code",
   "execution_count": 55,
   "id": "4a97009a-bf13-44ac-bd7f-419a5cf29a93",
   "metadata": {},
   "outputs": [
    {
     "name": "stdout",
     "output_type": "stream",
     "text": [
      "[0]\n"
     ]
    }
   ],
   "source": [
    "def fget(nums=[0]):\n",
    "    return nums\n",
    "\n",
    "result1 = fget()\n",
    "print(result1)"
   ]
  },
  {
   "cell_type": "code",
   "execution_count": 57,
   "id": "f5ba2949-5d3b-4788-8a15-7d75bc4d5baa",
   "metadata": {},
   "outputs": [
    {
     "name": "stdout",
     "output_type": "stream",
     "text": [
      "[1, 2, 3, 4, 5]\n"
     ]
    }
   ],
   "source": [
    "result2 = fget([1,2,3,4,5])\n",
    "print(result2)"
   ]
  },
  {
   "cell_type": "code",
   "execution_count": 60,
   "id": "245e3306-c4aa-4ced-95ba-3a6d07717abb",
   "metadata": {},
   "outputs": [],
   "source": [
    "def fgets(nums=[0]):\n",
    "    for n in nums:\n",
    "        print(n)"
   ]
  },
  {
   "cell_type": "raw",
   "id": "6934b42d-c399-4907-8509-9adc86e01bbc",
   "metadata": {},
   "source": [
    "fgets()"
   ]
  },
  {
   "cell_type": "code",
   "execution_count": 61,
   "id": "9d34715a-3fed-4567-ba8b-6194931d48b5",
   "metadata": {},
   "outputs": [
    {
     "name": "stdout",
     "output_type": "stream",
     "text": [
      "1\n",
      "2\n",
      "3\n",
      "4\n",
      "5\n"
     ]
    }
   ],
   "source": [
    "fgets([1,2,3,4,5])"
   ]
  },
  {
   "cell_type": "code",
   "execution_count": null,
   "id": "5134e357-e0a8-48a4-adda-48746b72d8f4",
   "metadata": {},
   "outputs": [],
   "source": []
  }
 ],
 "metadata": {
  "kernelspec": {
   "display_name": "Python 3 (ipykernel)",
   "language": "python",
   "name": "python3"
  },
  "language_info": {
   "codemirror_mode": {
    "name": "ipython",
    "version": 3
   },
   "file_extension": ".py",
   "mimetype": "text/x-python",
   "name": "python",
   "nbconvert_exporter": "python",
   "pygments_lexer": "ipython3",
   "version": "3.12.8"
  }
 },
 "nbformat": 4,
 "nbformat_minor": 5
}
