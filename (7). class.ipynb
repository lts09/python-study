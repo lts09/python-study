{
 "cells": [
  {
   "cell_type": "markdown",
   "id": "fd4831d7-063e-422c-b68a-f6413beef345",
   "metadata": {},
   "source": [
    "# 클래스는 1개 이상의 함수, 변수로 정의됨, 상속 가능"
   ]
  },
  {
   "cell_type": "code",
   "execution_count": 2,
   "id": "810c02f1-3a88-4a3a-8bd0-cc8efdb23331",
   "metadata": {},
   "outputs": [],
   "source": [
    "class cexam:\n",
    "    def fsam(self):\n",
    "        self.text = '멥버 함수(메소드)'\n",
    "        print(self.text)"
   ]
  },
  {
   "cell_type": "code",
   "execution_count": 3,
   "id": "10dde50c-b67f-4aa6-8326-0cd5d71c4518",
   "metadata": {},
   "outputs": [],
   "source": [
    "ca = cexam()"
   ]
  },
  {
   "cell_type": "code",
   "execution_count": 4,
   "id": "c5d020df-5896-4adc-ae85-823ca91b00b8",
   "metadata": {},
   "outputs": [
    {
     "name": "stdout",
     "output_type": "stream",
     "text": [
      "<__main__.cexam object at 0x00000292C982BF20>\n"
     ]
    }
   ],
   "source": [
    "print(ca)"
   ]
  },
  {
   "cell_type": "code",
   "execution_count": 5,
   "id": "1e9cf969-a2a2-4e56-8551-dee2310796ef",
   "metadata": {},
   "outputs": [
    {
     "name": "stdout",
     "output_type": "stream",
     "text": [
      "멥버 함수(메소드)\n"
     ]
    }
   ],
   "source": [
    "ca.fsam()"
   ]
  },
  {
   "cell_type": "code",
   "execution_count": 6,
   "id": "f3d661d6-41eb-478c-8dfc-5eedaca42870",
   "metadata": {},
   "outputs": [],
   "source": [
    "class cexam():\n",
    "    def fsama(self):\n",
    "        self.text = '멥버 함수(메소드)'\n",
    "        print(self.text)\n",
    "        \n",
    "    def fsamb(self, pa):\n",
    "        self.x = pa\n",
    "        print('멥버 변수 x는 ' , self.x)"
   ]
  },
  {
   "cell_type": "code",
   "execution_count": 7,
   "id": "c4d1db9f-7a76-460b-840f-cd46bcb3e87b",
   "metadata": {},
   "outputs": [],
   "source": [
    "ca = cexam()"
   ]
  },
  {
   "cell_type": "code",
   "execution_count": 8,
   "id": "5d683d16-5f60-4a94-90b4-45a56778698b",
   "metadata": {},
   "outputs": [
    {
     "name": "stdout",
     "output_type": "stream",
     "text": [
      "멥버 함수(메소드)\n"
     ]
    }
   ],
   "source": [
    "ca.fsama()"
   ]
  },
  {
   "cell_type": "code",
   "execution_count": 9,
   "id": "5a4cf041-37d1-413a-af2a-cfe1fec42297",
   "metadata": {},
   "outputs": [
    {
     "name": "stdout",
     "output_type": "stream",
     "text": [
      "멥버 변수 x는  10\n"
     ]
    }
   ],
   "source": [
    "ca.fsamb(10)"
   ]
  },
  {
   "cell_type": "markdown",
   "id": "8038ff97-925a-456d-938b-216578179e08",
   "metadata": {},
   "source": [
    "## 초기 메소드 _INIT_"
   ]
  },
  {
   "cell_type": "code",
   "execution_count": 20,
   "id": "8fc765f6-b2e5-4080-854b-a74cf98348d6",
   "metadata": {},
   "outputs": [],
   "source": [
    "class cexam():\n",
    "    def __init__(self,pa):\n",
    "        self.x = pa\n",
    "        print('멤버 변수 X는 ', self.x)\n",
    "    def fsam(self):\n",
    "        self.text = '멤버 함수 (메소드)'\n",
    "        print(self.text)"
   ]
  },
  {
   "cell_type": "code",
   "execution_count": 15,
   "id": "02f4b183-2692-4ef6-a828-463615f9ec51",
   "metadata": {},
   "outputs": [
    {
     "name": "stdout",
     "output_type": "stream",
     "text": [
      "멤버 젼수 X는  10\n"
     ]
    }
   ],
   "source": [
    "ca = cexam(10)  # 객체 생성과 동시에 10값을  __INIT__(pa) 에 전달"
   ]
  },
  {
   "cell_type": "code",
   "execution_count": 16,
   "id": "e52d8713-7c3e-4688-9c08-b4728040d134",
   "metadata": {},
   "outputs": [
    {
     "name": "stdout",
     "output_type": "stream",
     "text": [
      "멤버 함수 (메소드)\n"
     ]
    }
   ],
   "source": [
    "ca.fsam()"
   ]
  },
  {
   "cell_type": "code",
   "execution_count": 17,
   "id": "8d42e41b-56f8-41a5-b3da-b133735c3109",
   "metadata": {},
   "outputs": [
    {
     "data": {
      "text/plain": [
       "10"
      ]
     },
     "execution_count": 17,
     "metadata": {},
     "output_type": "execute_result"
    }
   ],
   "source": [
    "ca.x"
   ]
  },
  {
   "cell_type": "code",
   "execution_count": 18,
   "id": "89dcaddc-e937-4c6f-bdec-5f6257c77838",
   "metadata": {},
   "outputs": [
    {
     "name": "stdout",
     "output_type": "stream",
     "text": [
      "멤버 젼수 X는  30\n"
     ]
    }
   ],
   "source": [
    "cb = cexam(30)"
   ]
  },
  {
   "cell_type": "code",
   "execution_count": 19,
   "id": "b0e3e1f1-7081-41f0-a694-a9ee9fe49446",
   "metadata": {},
   "outputs": [
    {
     "data": {
      "text/plain": [
       "30"
      ]
     },
     "execution_count": 19,
     "metadata": {},
     "output_type": "execute_result"
    }
   ],
   "source": [
    "cb.x"
   ]
  },
  {
   "cell_type": "markdown",
   "id": "615488c8-40cf-476e-8b1f-00086aa10ae1",
   "metadata": {},
   "source": [
    "## self 의 의미"
   ]
  },
  {
   "cell_type": "code",
   "execution_count": 26,
   "id": "2720d6e2-8bea-4cc7-b834-1284e0449490",
   "metadata": {},
   "outputs": [],
   "source": [
    "class cexam():\n",
    "    def __init__(self,pa,pb):\n",
    "        self.x = pa\n",
    "        y =  pb\n",
    "        print('멤버 변수 X는 ', self.x)\n",
    "        print('변수 Y는 ', y)\n",
    "    def fsam(self):\n",
    "        self.text = '멤버 함수 (메소드)'\n",
    "        print(self.text)\n",
    "        \n",
    "    def fsamb(self):\n",
    "        print('멤버 함수가 아니다.')"
   ]
  },
  {
   "cell_type": "code",
   "execution_count": 27,
   "id": "0cfdd79f-e71c-44ee-aa6f-c6adb4ada7a5",
   "metadata": {},
   "outputs": [
    {
     "name": "stdout",
     "output_type": "stream",
     "text": [
      "멤버 변수 X는  10\n",
      "변수 Y는  20\n"
     ]
    }
   ],
   "source": [
    "ca = cexam(10,20)"
   ]
  },
  {
   "cell_type": "code",
   "execution_count": 28,
   "id": "1a9647b1-67e2-484e-a528-eb5f3a122f21",
   "metadata": {},
   "outputs": [
    {
     "name": "stdout",
     "output_type": "stream",
     "text": [
      "멤버 함수 (메소드)\n"
     ]
    }
   ],
   "source": [
    "ca.fsam()"
   ]
  },
  {
   "cell_type": "raw",
   "id": "fa2e0b9b-33c9-4b3c-b104-627c34f70f50",
   "metadata": {},
   "source": [
    "ca.fsamb()"
   ]
  },
  {
   "cell_type": "code",
   "execution_count": 38,
   "id": "c5b8ae77-2bb3-4aff-8f6e-47b80b7ff18a",
   "metadata": {},
   "outputs": [
    {
     "name": "stdout",
     "output_type": "stream",
     "text": [
      "Tesla Black\n",
      "BMW White\n"
     ]
    }
   ],
   "source": [
    "class Car:\n",
    "    def __init__(self, brand, color=\"Black\"):\n",
    "        self.brand = brand\n",
    "        self.color = color\n",
    "\n",
    "car1 = Car(\"Tesla\")          # color 기본값 사용\n",
    "car2 = Car(\"BMW\", \"White\")   # color 직접 지정\n",
    "\n",
    "print(car1.brand, car1.color)  # Tesla Black\n",
    "print(car2.brand, car2.color)  # BMW White\n"
   ]
  },
  {
   "cell_type": "code",
   "execution_count": 39,
   "id": "5f002fcc-a7f5-4bd4-8c51-1eadc60ef42f",
   "metadata": {},
   "outputs": [
    {
     "name": "stdout",
     "output_type": "stream",
     "text": [
      "Alice\n",
      "25\n"
     ]
    }
   ],
   "source": [
    "class Person:\n",
    "    def __init__(self, name, age):\n",
    "        self.name = name\n",
    "        self.age = age\n",
    "\n",
    "# 객체 생성\n",
    "person1 = Person(\"Alice\", 25)\n",
    "\n",
    "print(person1.name)  # Alice\n",
    "print(person1.age)   # 25\n"
   ]
  },
  {
   "cell_type": "code",
   "execution_count": 45,
   "id": "036ebdd0-4038-486a-b4f3-b6da2c6e384b",
   "metadata": {},
   "outputs": [
    {
     "name": "stdout",
     "output_type": "stream",
     "text": [
      "red apple\n",
      "yellow banana\n"
     ]
    }
   ],
   "source": [
    "class a:\n",
    "    def __init__(self,types,color):\n",
    "        self.types = types\n",
    "        self.color = color\n",
    "        \n",
    "a1 = a(\"apple\", \"red\")\n",
    "a2 = a(\"banana\",\"yellow\")\n",
    "\n",
    "print(a1.color, a1.types)\n",
    "print(a2.color , a2.types)"
   ]
  },
  {
   "cell_type": "markdown",
   "id": "db8ad172-30f4-41bb-b1b4-f88cafa3b82f",
   "metadata": {},
   "source": [
    "## 파이썬에서 변수와 기억장소(메모리) 할당"
   ]
  },
  {
   "cell_type": "code",
   "execution_count": 46,
   "id": "734dd961-bbcb-4d65-afdb-9f6b38df1d00",
   "metadata": {},
   "outputs": [],
   "source": [
    "class Calcurator:\n",
    "    def setinit(self):\n",
    "        self.result = 0\n",
    "    def adder(self,num):\n",
    "        self.result = self.result + num\n",
    "        return self.result"
   ]
  },
  {
   "cell_type": "code",
   "execution_count": 47,
   "id": "cb937edb-2ae7-4a6c-b437-7c67b51a965f",
   "metadata": {},
   "outputs": [],
   "source": [
    "cal1 = Calcurator"
   ]
  },
  {
   "cell_type": "code",
   "execution_count": 51,
   "id": "b7f22126-855d-46d5-8e6f-98ea3a962f8f",
   "metadata": {
    "collapsed": true,
    "jupyter": {
     "outputs_hidden": true
    }
   },
   "outputs": [
    {
     "ename": "TypeError",
     "evalue": "Calcurator.setinit() missing 1 required positional argument: 'self'",
     "output_type": "error",
     "traceback": [
      "\u001b[1;31m---------------------------------------------------------------------------\u001b[0m",
      "\u001b[1;31mTypeError\u001b[0m                                 Traceback (most recent call last)",
      "Cell \u001b[1;32mIn[51], line 1\u001b[0m\n\u001b[1;32m----> 1\u001b[0m cal1\u001b[38;5;241m.\u001b[39msetinit()\n",
      "\u001b[1;31mTypeError\u001b[0m: Calcurator.setinit() missing 1 required positional argument: 'self'"
     ]
    }
   ],
   "source": [
    "cal1.setinit()"
   ]
  },
  {
   "cell_type": "code",
   "execution_count": 52,
   "id": "307f0a41-2179-48ef-9e0a-3056003e05ca",
   "metadata": {
    "collapsed": true,
    "jupyter": {
     "outputs_hidden": true
    }
   },
   "outputs": [
    {
     "ename": "AttributeError",
     "evalue": "type object 'Calcurator' has no attribute 'result'",
     "output_type": "error",
     "traceback": [
      "\u001b[1;31m---------------------------------------------------------------------------\u001b[0m",
      "\u001b[1;31mAttributeError\u001b[0m                            Traceback (most recent call last)",
      "Cell \u001b[1;32mIn[52], line 1\u001b[0m\n\u001b[1;32m----> 1\u001b[0m \u001b[38;5;28mprint\u001b[39m(cal1\u001b[38;5;241m.\u001b[39mresult)\n",
      "\u001b[1;31mAttributeError\u001b[0m: type object 'Calcurator' has no attribute 'result'"
     ]
    }
   ],
   "source": [
    "print(cal1.result)"
   ]
  },
  {
   "cell_type": "code",
   "execution_count": 53,
   "id": "da346b71-c4eb-4a8b-9093-d0407622562b",
   "metadata": {
    "collapsed": true,
    "jupyter": {
     "outputs_hidden": true
    },
    "scrolled": true
   },
   "outputs": [
    {
     "ename": "AttributeError",
     "evalue": "type object 'Calcurator' has no attribute 'result'",
     "output_type": "error",
     "traceback": [
      "\u001b[1;31m---------------------------------------------------------------------------\u001b[0m",
      "\u001b[1;31mAttributeError\u001b[0m                            Traceback (most recent call last)",
      "Cell \u001b[1;32mIn[53], line 1\u001b[0m\n\u001b[1;32m----> 1\u001b[0m \u001b[38;5;28mprint\u001b[39m(cal1\u001b[38;5;241m.\u001b[39mresult)\n\u001b[0;32m      2\u001b[0m \u001b[38;5;28mprint\u001b[39m(cal2\u001b[38;5;241m.\u001b[39mresult)\n",
      "\u001b[1;31mAttributeError\u001b[0m: type object 'Calcurator' has no attribute 'result'"
     ]
    }
   ],
   "source": [
    "print(cal1.result)\n",
    "print(cal2.result)"
   ]
  },
  {
   "cell_type": "code",
   "execution_count": 54,
   "id": "88e8a0ea-3f83-4aff-badb-06c88fb9e8be",
   "metadata": {
    "collapsed": true,
    "jupyter": {
     "outputs_hidden": true
    },
    "scrolled": true
   },
   "outputs": [
    {
     "ename": "TypeError",
     "evalue": "Calcurator.adder() missing 1 required positional argument: 'num'",
     "output_type": "error",
     "traceback": [
      "\u001b[1;31m---------------------------------------------------------------------------\u001b[0m",
      "\u001b[1;31mTypeError\u001b[0m                                 Traceback (most recent call last)",
      "Cell \u001b[1;32mIn[54], line 1\u001b[0m\n\u001b[1;32m----> 1\u001b[0m \u001b[38;5;28mprint\u001b[39m(cal1\u001b[38;5;241m.\u001b[39madder(\u001b[38;5;241m3\u001b[39m))\n\u001b[0;32m      2\u001b[0m \u001b[38;5;28mprint\u001b[39m(cal2\u001b[38;5;241m.\u001b[39madder(\u001b[38;5;241m4\u001b[39m))\n",
      "\u001b[1;31mTypeError\u001b[0m: Calcurator.adder() missing 1 required positional argument: 'num'"
     ]
    }
   ],
   "source": [
    "print(cal1.adder(3))\n",
    "print(cal2.adder(4))"
   ]
  },
  {
   "cell_type": "code",
   "execution_count": null,
   "id": "2fae4c57-da75-48ae-baa0-4d8604db037e",
   "metadata": {},
   "outputs": [],
   "source": [
    "cal3= calcurator()\n",
    "cal3.setinit()\n",
    "print(cal1.adder(10))\n",
    "print(cal2.adder(10))"
   ]
  },
  {
   "cell_type": "markdown",
   "id": "cdff4e28-9649-4065-919f-f4e64519f7c8",
   "metadata": {},
   "source": [
    "## __init__ 메소드 객체의 변수 값을 초기화"
   ]
  },
  {
   "cell_type": "code",
   "execution_count": 71,
   "id": "afd6534a-2647-475f-876a-9b1e07bdeb3d",
   "metadata": {},
   "outputs": [],
   "source": [
    "## 멤버의 파라미터값으로 변수 초기화\n",
    "\n",
    "class car:\n",
    "    def __init__(self,pnum,pspeed):\n",
    "        self.num = pnum\n",
    "        self.speed = pspeed\n",
    "    def fprint(self):\n",
    "        print('차량 번호  :', self.num)\n",
    "        print('속도는  : ', self.speed)   "
   ]
  },
  {
   "cell_type": "code",
   "execution_count": 72,
   "id": "15c88649-8afb-4148-bbf7-c6feebfcfd54",
   "metadata": {},
   "outputs": [
    {
     "ename": "AttributeError",
     "evalue": "'Car' object has no attribute 'fprint'",
     "output_type": "error",
     "traceback": [
      "\u001b[1;31m---------------------------------------------------------------------------\u001b[0m",
      "\u001b[1;31mAttributeError\u001b[0m                            Traceback (most recent call last)",
      "Cell \u001b[1;32mIn[72], line 2\u001b[0m\n\u001b[0;32m      1\u001b[0m new_car \u001b[38;5;241m=\u001b[39m  Car(\u001b[38;5;241m2025\u001b[39m, \u001b[38;5;241m90\u001b[39m)\n\u001b[1;32m----> 2\u001b[0m new_car\u001b[38;5;241m.\u001b[39mfprint()\n",
      "\u001b[1;31mAttributeError\u001b[0m: 'Car' object has no attribute 'fprint'"
     ]
    }
   ],
   "source": [
    "new_car =  Car(2025, 90)\n",
    "new_car.fprint()"
   ]
  },
  {
   "cell_type": "code",
   "execution_count": 73,
   "id": "6b28484e-99dd-4033-b0d2-f9289bf0fcef",
   "metadata": {},
   "outputs": [
    {
     "ename": "AttributeError",
     "evalue": "'Car' object has no attribute 'num'",
     "output_type": "error",
     "traceback": [
      "\u001b[1;31m---------------------------------------------------------------------------\u001b[0m",
      "\u001b[1;31mAttributeError\u001b[0m                            Traceback (most recent call last)",
      "Cell \u001b[1;32mIn[73], line 1\u001b[0m\n\u001b[1;32m----> 1\u001b[0m \u001b[38;5;28mprint\u001b[39m(\u001b[38;5;124m'\u001b[39m\u001b[38;5;124m차량 번호  :\u001b[39m\u001b[38;5;124m'\u001b[39m, new_car\u001b[38;5;241m.\u001b[39mnum)\n\u001b[0;32m      2\u001b[0m \u001b[38;5;28mprint\u001b[39m(\u001b[38;5;124m'\u001b[39m\u001b[38;5;124m속도는  : \u001b[39m\u001b[38;5;124m'\u001b[39m, pspeed\u001b[38;5;241m.\u001b[39mspeed)\n",
      "\u001b[1;31mAttributeError\u001b[0m: 'Car' object has no attribute 'num'"
     ]
    }
   ],
   "source": [
    "print('차량 번호  :', new_car.num)\n",
    "print('속도는  : ', pspeed.speed)"
   ]
  },
  {
   "cell_type": "code",
   "execution_count": null,
   "id": "fe5a32f6-0e01-409e-83a0-eeeca3fe309e",
   "metadata": {},
   "outputs": [],
   "source": []
  },
  {
   "cell_type": "code",
   "execution_count": 76,
   "id": "be73afa2-c058-463f-83a9-1d002faefad4",
   "metadata": {},
   "outputs": [
    {
     "name": "stdout",
     "output_type": "stream",
     "text": [
      "객체 obj 내의 인수턴스 변수 x의 값은  10\n",
      "객체 obj 내의 인수턴스 변수 x의 값은  10\n",
      "객체 obj 내의 인수턴스 변수 x의 값은  30\n"
     ]
    }
   ],
   "source": [
    "class cadd:\n",
    "    def fadd(self,a,b):\n",
    "        self.x = a\n",
    "        self.y = b\n",
    "        self.hap = self.x + self.y\n",
    "obj = cadd()\n",
    "obj.fadd(10,20)\n",
    "\n",
    "print('객체 obj 내의 인수턴스 변수 x의 값은 ', obj.x)\n",
    "print('객체 obj 내의 인수턴스 변수 x의 값은 ', obj.x)\n",
    "print('객체 obj 내의 인수턴스 변수 x의 값은 ', obj.hap)"
   ]
  },
  {
   "cell_type": "code",
   "execution_count": 79,
   "id": "7c58c558-74e3-4b6d-aca7-83092655acb0",
   "metadata": {},
   "outputs": [
    {
     "name": "stdout",
     "output_type": "stream",
     "text": [
      "ohap의 값은? 30\n"
     ]
    }
   ],
   "source": [
    "class cadd:\n",
    "    def fadd(self,a,b):\n",
    "        x = a\n",
    "        y = b\n",
    "        hap = x +y\n",
    "        return hap\n",
    "        \n",
    "obj = cadd()\n",
    "ohap= obj.fadd(10,20)\n",
    "\n",
    "print('ohap의 값은?', ohap)"
   ]
  },
  {
   "cell_type": "code",
   "execution_count": 80,
   "id": "21801a9b-d485-4ffc-a9e6-3649d6317782",
   "metadata": {},
   "outputs": [
    {
     "name": "stdout",
     "output_type": "stream",
     "text": [
      "ohap의 값은? 30\n"
     ]
    }
   ],
   "source": [
    "class cadd:\n",
    "    def fadd(self,a,b):\n",
    "        self.x = a\n",
    "        self.y = b\n",
    "        self.hap = self.x + self.y\n",
    "        return self.hap\n",
    "        \n",
    "obj = cadd()\n",
    "obj.fadd(10,20)\n",
    "\n",
    "print('ohap의 값은?', ohap)"
   ]
  },
  {
   "cell_type": "code",
   "execution_count": 83,
   "id": "49e76116-38ac-44de-93d8-d6f377563f64",
   "metadata": {},
   "outputs": [
    {
     "name": "stdout",
     "output_type": "stream",
     "text": [
      "ohap의 값은? 30\n"
     ]
    }
   ],
   "source": [
    "# 객체의 멤버 함수의 파라미터 초기값 설정\n",
    "\n",
    "class cadd:\n",
    "    def fadd(self,a=1,b=2):\n",
    "        self.x = a\n",
    "        self.y = b\n",
    "        self.hap = self.x + self.y\n",
    "        return self.hap\n",
    "        \n",
    "obj = cadd()\n",
    "obj.fadd()\n",
    "\n",
    "print('ohap의 값은?', ohap)"
   ]
  },
  {
   "cell_type": "code",
   "execution_count": 84,
   "id": "6f3da654-2e5e-4aac-9a4f-a46b33c83014",
   "metadata": {},
   "outputs": [],
   "source": [
    "ohap = obj.fadd(10)"
   ]
  },
  {
   "cell_type": "code",
   "execution_count": null,
   "id": "d27c74e3-0019-4433-89de-5de140d1f863",
   "metadata": {},
   "outputs": [],
   "source": []
  },
  {
   "cell_type": "code",
   "execution_count": 99,
   "id": "b38e9598-fcd8-4615-9ee2-df525dfa0c49",
   "metadata": {},
   "outputs": [
    {
     "ename": "IndentationError",
     "evalue": "expected an indented block after function definition on line 2 (1691579172.py, line 3)",
     "output_type": "error",
     "traceback": [
      "\u001b[1;36m  Cell \u001b[1;32mIn[99], line 3\u001b[1;36m\u001b[0m\n\u001b[1;33m    def fsub(self, a, b):\u001b[0m\n\u001b[1;37m    ^\u001b[0m\n\u001b[1;31mIndentationError\u001b[0m\u001b[1;31m:\u001b[0m expected an indented block after function definition on line 2\n"
     ]
    }
   ],
   "source": [
    "class Ccalc:\n",
    "    def fadd(self, a, b):\n",
    "    def fsub(self, a, b):\n",
    "    def fmul(self, a, b): \n",
    "    def fdiv(self, a, b):"
   ]
  },
  {
   "cell_type": "code",
   "execution_count": 100,
   "id": "f77c76ce-47e9-4253-999d-eec2c88346ff",
   "metadata": {},
   "outputs": [
    {
     "name": "stdout",
     "output_type": "stream",
     "text": [
      "30\n",
      "-10\n",
      "200\n",
      "0.5\n"
     ]
    }
   ],
   "source": [
    "cal1=Ccalc()\n",
    "print(cal1.fadd(10,20))\n",
    "print(cal1.fsub(10,20))\n",
    "print(cal1.fmul(10,20))\n",
    "print(cal1.fdiv(10,20))"
   ]
  },
  {
   "cell_type": "code",
   "execution_count": 102,
   "id": "09fe397c-e1d5-447f-b423-59b1fd0b866d",
   "metadata": {},
   "outputs": [
    {
     "name": "stdout",
     "output_type": "stream",
     "text": [
      "30\n",
      "-10\n",
      "200\n",
      "Error: Division by zero\n"
     ]
    }
   ],
   "source": [
    "class Ccalc:\n",
    "    def fadd(self, a, b):\n",
    "        return a + b\n",
    "    \n",
    "    def fsub(self, a, b):\n",
    "        return a - b\n",
    "    \n",
    "    def fmul(self, a, b):\n",
    "        return a * b\n",
    "    \n",
    "    def fdiv(self, a, b):\n",
    "        if b == 0:\n",
    "            return \"Error: Division by zero\"\n",
    "        return a / b\n",
    "\n",
    "# 객체 생성\n",
    "cal1 = Ccalc()\n",
    "\n",
    "# 메서드 호출 및 출력\n",
    "print(cal1.fadd(10, 20))  # 30\n",
    "print(cal1.fsub(10, 20))  # -10\n",
    "print(cal1.fmul(10, 20))  # 200\n",
    "print(cal1.fdiv(10, 0))  # 0.5\n"
   ]
  },
  {
   "cell_type": "code",
   "execution_count": 103,
   "id": "e2b6e75d-a93b-470e-8476-e9da7a3475c4",
   "metadata": {},
   "outputs": [
    {
     "ename": "ModuleNotFoundError",
     "evalue": "No module named 'fcal'",
     "output_type": "error",
     "traceback": [
      "\u001b[1;31m---------------------------------------------------------------------------\u001b[0m",
      "\u001b[1;31mModuleNotFoundError\u001b[0m                       Traceback (most recent call last)",
      "Cell \u001b[1;32mIn[103], line 1\u001b[0m\n\u001b[1;32m----> 1\u001b[0m \u001b[38;5;28;01mfrom\u001b[39;00m \u001b[38;5;21;01mfcal\u001b[39;00m \u001b[38;5;28;01mimport\u001b[39;00m Fcalc,Fcala\n",
      "\u001b[1;31mModuleNotFoundError\u001b[0m: No module named 'fcal'"
     ]
    }
   ],
   "source": [
    "from fcal import Fcalc,Fcala"
   ]
  },
  {
   "cell_type": "raw",
   "id": "821ac50b-25f8-40c9-b52b-02919262b358",
   "metadata": {},
   "source": [
    "dlr"
   ]
  },
  {
   "cell_type": "code",
   "execution_count": null,
   "id": "39e28042-ab08-4515-81a9-025a32454aa1",
   "metadata": {},
   "outputs": [],
   "source": [
    "    "
   ]
  }
 ],
 "metadata": {
  "kernelspec": {
   "display_name": "Python 3 (ipykernel)",
   "language": "python",
   "name": "python3"
  },
  "language_info": {
   "codemirror_mode": {
    "name": "ipython",
    "version": 3
   },
   "file_extension": ".py",
   "mimetype": "text/x-python",
   "name": "python",
   "nbconvert_exporter": "python",
   "pygments_lexer": "ipython3",
   "version": "3.12.8"
  }
 },
 "nbformat": 4,
 "nbformat_minor": 5
}
