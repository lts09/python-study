{
 "cells": [
  {
   "cell_type": "markdown",
   "id": "bbbf1ffa-1568-4131-aad9-1446ffd20091",
   "metadata": {},
   "source": [
    "# 1. 변수와 데이터 타입 기초\n",
    "## 1.1. 변수 선언과 값 할당\n",
    "변수는 데이터를 저장하는 공간을 나타냅니다. Python에서 변수는 특정 값에 이름을 붙여서 사용합니다."
   ]
  },
  {
   "cell_type": "code",
   "execution_count": 2,
   "id": "97a1a852-193b-48d5-9f23-f4b83f7b5d5d",
   "metadata": {},
   "outputs": [],
   "source": [
    "# 변수 선언과 값 할당\n",
    "x = 10           # 정수형\n",
    "name = \"Alice\"    # 문자열\n",
    "height = 1.75     # 실수형\n",
    "is_student = True # 불리언"
   ]
  },
  {
   "cell_type": "markdown",
   "id": "1eccd723-2d09-478c-9e20-da7c4c30a35b",
   "metadata": {},
   "source": [
    "## 1.2. 데이터 타입 확인하기\n",
    "Python에서는 type() 함수를 사용하여 변수의 데이터 타입을 확인할 수 있습니다."
   ]
  },
  {
   "cell_type": "code",
   "execution_count": 3,
   "id": "2afebdd1-c100-4833-8854-e353ddb7582b",
   "metadata": {},
   "outputs": [
    {
     "name": "stdout",
     "output_type": "stream",
     "text": [
      "<class 'int'>\n",
      "<class 'str'>\n",
      "<class 'float'>\n",
      "<class 'bool'>\n"
     ]
    }
   ],
   "source": [
    "print(type(x))        # <class 'int'>\n",
    "print(type(name))     # <class 'str'>\n",
    "print(type(height))   # <class 'float'>\n",
    "print(type(is_student)) # <class 'bool'>"
   ]
  },
  {
   "cell_type": "code",
   "execution_count": 16,
   "id": "ba6eda14-0f0c-4b7b-af93-6235a971f60c",
   "metadata": {},
   "outputs": [
    {
     "name": "stdout",
     "output_type": "stream",
     "text": [
      "100\n",
      "철수\n"
     ]
    }
   ],
   "source": [
    "print (x)\n",
    "print (name)"
   ]
  },
  {
   "cell_type": "code",
   "execution_count": 5,
   "id": "51a34529-1d84-48a1-b7e3-6c77b68c1c82",
   "metadata": {
    "collapsed": true,
    "jupyter": {
     "outputs_hidden": true
    }
   },
   "outputs": [
    {
     "name": "stdout",
     "output_type": "stream",
     "text": [
      "x =  10\n",
      "name =  Alice\n",
      "height =  1.75\n",
      "is_student =  True\n"
     ]
    }
   ],
   "source": [
    "print('x = ', x)      \n",
    "print('name = ', name)     \n",
    "print('height = ', height)   \n",
    "print('is_student = ', is_student)"
   ]
  },
  {
   "cell_type": "markdown",
   "id": "bf8f53a6-da13-4927-a2a6-801f6837d378",
   "metadata": {},
   "source": [
    "## 1.3. 데이터 타입 변환하기\n",
    "Python에서는 데이터를 다른 타입으로 변환할 수 있습니다. 예를 들어, 정수를 실수로 변환하거나 문자열을 숫자로 변환할 수 있습니다."
   ]
  },
  {
   "cell_type": "code",
   "execution_count": 20,
   "id": "a1dcb37f-7582-42c9-9956-c027d5f53a83",
   "metadata": {},
   "outputs": [
    {
     "name": "stdout",
     "output_type": "stream",
     "text": [
      "100\n"
     ]
    },
    {
     "ename": "NameError",
     "evalue": "name 'height' is not defined",
     "output_type": "error",
     "traceback": [
      "\u001b[1;31m---------------------------------------------------------------------------\u001b[0m",
      "\u001b[1;31mNameError\u001b[0m                                 Traceback (most recent call last)",
      "Cell \u001b[1;32mIn[20], line 6\u001b[0m\n\u001b[0;32m      3\u001b[0m num_int \u001b[38;5;241m=\u001b[39m \u001b[38;5;28mint\u001b[39m(num_str)  \u001b[38;5;66;03m# 문자열을 정수로 변환\u001b[39;00m\n\u001b[0;32m      4\u001b[0m \u001b[38;5;28mprint\u001b[39m(num_int)       \u001b[38;5;66;03m# 100\u001b[39;00m\n\u001b[1;32m----> 6\u001b[0m height_str \u001b[38;5;241m=\u001b[39m \u001b[38;5;28mstr\u001b[39m(height)  \u001b[38;5;66;03m# 실수를 문자열로 변환\u001b[39;00m\n\u001b[0;32m      7\u001b[0m \u001b[38;5;28mprint\u001b[39m(height_str)\n",
      "\u001b[1;31mNameError\u001b[0m: name 'height' is not defined"
     ]
    }
   ],
   "source": [
    "# 데이터 타입 변환 예제\n",
    "num_str = \"100\"     # 문자열\n",
    "num_int = int(num_str)  # 문자열을 정수로 변환\n",
    "print(num_int)       # 100\n",
    "\n",
    "height_str = str(height)  # 실수를 문자열로 변환\n",
    "print(height_str)   # '1.75'\n"
   ]
  },
  {
   "cell_type": "markdown",
   "id": "d01efb18-7116-4a4b-9f70-e26803ea2384",
   "metadata": {},
   "source": [
    "# 2. 다양한 데이터 타입 실습\n",
    "## 2.1. 정수 (int)\n",
    "정수는 소수점이 없는 숫자를 나타냅니다."
   ]
  },
  {
   "cell_type": "code",
   "execution_count": 12,
   "id": "28385de8-73b0-4e89-a2d4-ad2972e47fdd",
   "metadata": {},
   "outputs": [
    {
     "name": "stdout",
     "output_type": "stream",
     "text": [
      "합: 43\n"
     ]
    }
   ],
   "source": [
    "# 정수 예제\n",
    "num1 = 50\n",
    "num2 = -7\n",
    "sum_result = num1 + num2\n",
    "print(\"합:\", sum_result)  # 43"
   ]
  },
  {
   "cell_type": "markdown",
   "id": "5298eb7d-cb53-4038-8412-581aec0f935c",
   "metadata": {},
   "source": [
    "## 2.2 실수 (float)\n",
    "실수는 소수점이 있는 숫자를 나타냅니다"
   ]
  },
  {
   "cell_type": "code",
   "execution_count": 26,
   "id": "5e169541-d915-442a-841f-b36aa54fa2d8",
   "metadata": {},
   "outputs": [
    {
     "name": "stdout",
     "output_type": "stream",
     "text": [
      "BMI: 23.020408163265305\n"
     ]
    }
   ],
   "source": [
    "# 실수 예제\n",
    "height = 1.75\n",
    "weight = 70.5\n",
    "bmi = weight / (height ** 2)  # BMI 계산\n",
    "print(\"BMI:\", bmi)  # 22.98 (대략적인 결과)"
   ]
  },
  {
   "cell_type": "code",
   "execution_count": 28,
   "id": "6e6c63d1-bf50-4884-a3f8-71237d6010ea",
   "metadata": {},
   "outputs": [
    {
     "name": "stdout",
     "output_type": "stream",
     "text": [
      "bmi: 4.333333333333333\n"
     ]
    }
   ],
   "source": [
    "height = 1.5\n",
    "weight = 6.5\n",
    "bmi = weight/height\n",
    "print (\"bmi:\",bmi)"
   ]
  },
  {
   "cell_type": "markdown",
   "id": "46a0c692-95dc-4345-abcc-73320e43e766",
   "metadata": {},
   "source": [
    "## 2.3 문자열 \n",
    "문자열은 작은따옴표('') 또는 큰따옴표로(\"\") 감싸서 만들 수 있습니다"
   ]
  },
  {
   "cell_type": "code",
   "execution_count": 32,
   "id": "c231821f-33cb-4ce3-a91b-21684d28c307",
   "metadata": {},
   "outputs": [
    {
     "name": "stdout",
     "output_type": "stream",
     "text": [
      "Hello, World!\n",
      "Hello Alice!\n"
     ]
    }
   ],
   "source": [
    "# 문자열 예제\n",
    "greeting = \"Hello, World!\"\n",
    "print(greeting)  # Hello, World!\n",
    "# 문자열 연결 (concatenation)\n",
    "full_greeting = \"Hello\" + \" \" + \"Alice!\"\n",
    "print(full_greeting)  # Hello Alice!"
   ]
  },
  {
   "cell_type": "markdown",
   "id": "12cf22f9-a7a4-4630-8f85-4164c113fb29",
   "metadata": {},
   "source": [
    "# 2.4. 불리언 (bool)\n",
    "불리언은 True 또는 False 값만 가질 수 있는 데이터 타입입니다."
   ]
  },
  {
   "cell_type": "code",
   "execution_count": 34,
   "id": "45135794-6feb-4e18-8e01-9c533f3d0d39",
   "metadata": {},
   "outputs": [
    {
     "name": "stdout",
     "output_type": "stream",
     "text": [
      "False\n"
     ]
    }
   ],
   "source": [
    "b_txt= False\n",
    "print(b_txt)"
   ]
  },
  {
   "cell_type": "code",
   "execution_count": 38,
   "id": "f82a8c19-6dce-45e0-b510-754056c93930",
   "metadata": {},
   "outputs": [
    {
     "name": "stdout",
     "output_type": "stream",
     "text": [
      "참\n"
     ]
    }
   ],
   "source": [
    "if 0 ==False:\n",
    "    print('참')\n",
    "else:\n",
    "    print('거짓')"
   ]
  },
  {
   "cell_type": "code",
   "execution_count": 40,
   "id": "9143f604-8e33-44bf-9119-daf065e90d62",
   "metadata": {},
   "outputs": [
    {
     "ename": "SyntaxError",
     "evalue": "illegal target for annotation (2208080781.py, line 6)",
     "output_type": "error",
     "traceback": [
      "\u001b[1;36m  Cell \u001b[1;32mIn[40], line 6\u001b[1;36m\u001b[0m\n\u001b[1;33m    1:45\u001b[0m\n\u001b[1;37m    ^\u001b[0m\n\u001b[1;31mSyntaxError\u001b[0m\u001b[1;31m:\u001b[0m illegal target for annotation\n"
     ]
    }
   ],
   "source": [
    "# 불리언 예제\n",
    "is_raining = True\n",
    "is_sunny = False\n",
    "print(\"비가 오나요?\", is_raining)  # True\n",
    "print(\"맑은 날인가요?\", is_sunny)  # False\n",
    "1:45\n",
    "b_txt = False\n",
    "print(b_txt)"
   ]
  },
  {
   "cell_type": "markdown",
   "id": "e6ce80cb-2670-4cb1-88b6-516d41f70931",
   "metadata": {},
   "source": [
    "# 3. 데이터 타입 연산\n",
    "\n",
    "## 3.1. 정수와 실수 연산\n",
    "정수와 실수는 서로 연산이 가능하며, 실수 결과를 변환합니다"
   ]
  },
  {
   "cell_type": "code",
   "execution_count": 42,
   "id": "227374e3-2a80-46cb-96c1-84a337712b5f",
   "metadata": {},
   "outputs": [
    {
     "name": "stdout",
     "output_type": "stream",
     "text": [
      "덧셈 결과: 13\n",
      "나눗셈 결과: 3.3333333333333335\n",
      "나머지: 1\n"
     ]
    }
   ],
   "source": [
    "# 정수와 실수 연산\n",
    "num1 = 10\n",
    "num2 = 3\n",
    "# 덧셈\n",
    "sum_result = num1 + num2  # 10 + 3 = 13\n",
    "print(\"덧셈 결과:\", sum_result)\n",
    "# 나눗셈 (결과는 실수형)\n",
    "division_result = num1 / num2  # 10 / 3 = 3.333...\n",
    "print(\"나눗셈 결과:\", division_result)\n",
    "# 나머지 구하기 (정수형)\n",
    "mod_result = num1 % num2  # 10 % 3 = 1\n",
    "print(\"나머지:\", mod_result)"
   ]
  },
  {
   "cell_type": "markdown",
   "id": "f119ee7b-2127-42b2-bdc3-aab68e7017ba",
   "metadata": {},
   "source": [
    "## 문제 1: 변수 선언과 연산¶\n",
    "정수 변수 a = 15, b = 4를 선언하고, 두 변수의 합, 차, 곱, 나눗셈 결과를 각각 출력하는 프로그램을 작성하세요."
   ]
  },
  {
   "cell_type": "code",
   "execution_count": 87,
   "id": "6229f144-4010-48a8-94a6-e57f4d6fd57a",
   "metadata": {},
   "outputs": [
    {
     "name": "stdout",
     "output_type": "stream",
     "text": [
      "a + b =  19\n",
      "a - b =  11\n",
      "a * b =  60\n",
      "a / b =  3.75\n"
     ]
    }
   ],
   "source": [
    "a=15\n",
    "b=4\n",
    "\n",
    "c= a+b\n",
    "print ('a + b = ',c)\n",
    "\n",
    "c= a-b\n",
    "print ('a - b = ',c)\n",
    "\n",
    "c= a*b\n",
    "print ('a * b = ',c)\n",
    "\n",
    "c= a/b\n",
    "print ('a / b = ',c)\n",
    "\n",
    "\n",
    "\n"
   ]
  },
  {
   "cell_type": "markdown",
   "id": "4c0e115a-5862-4b22-9251-b6b265d38e17",
   "metadata": {},
   "source": [
    "## 문제 2: 문자열 다루기\n",
    "사용자의 이름을 입력받고, 그 이름을 \"Hello, [이름]!\" 형식으로 출력하는 프로그램을 작성하세요"
   ]
  },
  {
   "cell_type": "code",
   "execution_count": 89,
   "id": "5c71c85d-ca89-4bb2-afe8-810ac50ef21d",
   "metadata": {},
   "outputs": [
    {
     "name": "stdout",
     "output_type": "stream",
     "text": [
      "Hello, ['문희승'] !\n",
      "hello+ name +!\n"
     ]
    }
   ],
   "source": [
    "name = \"문희승\"\n",
    "print (\"Hello,\",[name],\"!\")\n",
    "print(\"hello+ name +!\")"
   ]
  },
  {
   "cell_type": "markdown",
   "id": "7d044b66-8be5-4416-99cd-6e83387d4c37",
   "metadata": {},
   "source": [
    "## 문제 3: BMI 계산기\n",
    "키와 몸무게를 입력받아 BMI(체질량지수)를 계산하는 프로그램을 작성하세요.\n",
    "BMI 계산 공식: BMI = 체중(kg) / (신장(m) ** 2)"
   ]
  },
  {
   "cell_type": "code",
   "execution_count": 77,
   "id": "b2ef53fb-6365-42c2-9c1d-9c615e5367fe",
   "metadata": {},
   "outputs": [
    {
     "name": "stdout",
     "output_type": "stream",
     "text": [
      "BMI(체질량지수) = 19.26530612244898\n"
     ]
    }
   ],
   "source": [
    "height= 1.75\n",
    "weight=59\n",
    "\n",
    "BMI = weight / (height **2)\n",
    "print(\"BMI(체질량지수) =\",BMI)\n"
   ]
  },
  {
   "cell_type": "code",
   "execution_count": null,
   "id": "84faf3bb-162a-4ea4-a485-5e712e776990",
   "metadata": {},
   "outputs": [],
   "source": []
  }
 ],
 "metadata": {
  "kernelspec": {
   "display_name": "Python 3 (ipykernel)",
   "language": "python",
   "name": "python3"
  },
  "language_info": {
   "codemirror_mode": {
    "name": "ipython",
    "version": 3
   },
   "file_extension": ".py",
   "mimetype": "text/x-python",
   "name": "python",
   "nbconvert_exporter": "python",
   "pygments_lexer": "ipython3",
   "version": "3.12.8"
  }
 },
 "nbformat": 4,
 "nbformat_minor": 5
}
