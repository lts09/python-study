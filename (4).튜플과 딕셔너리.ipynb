{
 "cells": [
  {
   "cell_type": "code",
   "execution_count": 6,
   "id": "b967abb2-c4f1-4445-9105-f01cd7b8b3c5",
   "metadata": {},
   "outputs": [
    {
     "data": {
      "text/plain": [
       "('스쿼트', '런지', '레그컬')"
      ]
     },
     "execution_count": 6,
     "metadata": {},
     "output_type": "execute_result"
    }
   ],
   "source": [
    "# 튜플은 프로그램이 시작되면 내용을 변경 할 수 없다\n",
    "# 중요 개인정보를 데이터 처리할 때 사용\n",
    "\n",
    "leg_day = ('스쿼트','런지','레그컬')\n",
    "leg_day"
   ]
  },
  {
   "cell_type": "code",
   "execution_count": 2,
   "id": "c965933b-6ac3-4639-b97b-a1a1d3187c52",
   "metadata": {},
   "outputs": [
    {
     "data": {
      "text/plain": [
       "'스쿼트'"
      ]
     },
     "execution_count": 2,
     "metadata": {},
     "output_type": "execute_result"
    }
   ],
   "source": [
    "leg_day[0]"
   ]
  },
  {
   "cell_type": "code",
   "execution_count": 3,
   "id": "2666f21c-599f-4c61-8c30-6cb5b4c5bc0f",
   "metadata": {},
   "outputs": [
    {
     "ename": "TypeError",
     "evalue": "'tuple' object does not support item assignment",
     "output_type": "error",
     "traceback": [
      "\u001b[1;31m---------------------------------------------------------------------------\u001b[0m",
      "\u001b[1;31mTypeError\u001b[0m                                 Traceback (most recent call last)",
      "Cell \u001b[1;32mIn[3], line 1\u001b[0m\n\u001b[1;32m----> 1\u001b[0m leg_day[\u001b[38;5;241m0\u001b[39m] \u001b[38;5;241m=\u001b[39m \u001b[38;5;124m'\u001b[39m\u001b[38;5;124m벤치프레스\u001b[39m\u001b[38;5;124m'\u001b[39m\n",
      "\u001b[1;31mTypeError\u001b[0m: 'tuple' object does not support item assignment"
     ]
    }
   ],
   "source": [
    "leg_day[0] = '벤치프레스'"
   ]
  },
  {
   "cell_type": "code",
   "execution_count": 4,
   "id": "54a35781-87f9-46d0-b6bb-c3fdf8cf7712",
   "metadata": {},
   "outputs": [
    {
     "ename": "AttributeError",
     "evalue": "'tuple' object has no attribute 'append'",
     "output_type": "error",
     "traceback": [
      "\u001b[1;31m---------------------------------------------------------------------------\u001b[0m",
      "\u001b[1;31mAttributeError\u001b[0m                            Traceback (most recent call last)",
      "Cell \u001b[1;32mIn[4], line 1\u001b[0m\n\u001b[1;32m----> 1\u001b[0m leg_day\u001b[38;5;241m.\u001b[39mappend(\u001b[38;5;124m'\u001b[39m\u001b[38;5;124m셜더프레스\u001b[39m\u001b[38;5;124m'\u001b[39m)\n",
      "\u001b[1;31mAttributeError\u001b[0m: 'tuple' object has no attribute 'append'"
     ]
    }
   ],
   "source": [
    "leg_day.append('셜더프레스')"
   ]
  },
  {
   "cell_type": "code",
   "execution_count": 5,
   "id": "70c0b4cb-0846-487a-95d7-727e33b8ac88",
   "metadata": {},
   "outputs": [
    {
     "ename": "TypeError",
     "evalue": "'tuple' object doesn't support item deletion",
     "output_type": "error",
     "traceback": [
      "\u001b[1;31m---------------------------------------------------------------------------\u001b[0m",
      "\u001b[1;31mTypeError\u001b[0m                                 Traceback (most recent call last)",
      "Cell \u001b[1;32mIn[5], line 1\u001b[0m\n\u001b[1;32m----> 1\u001b[0m \u001b[38;5;28;01mdel\u001b[39;00m leg_day[\u001b[38;5;241m0\u001b[39m]\n",
      "\u001b[1;31mTypeError\u001b[0m: 'tuple' object doesn't support item deletion"
     ]
    }
   ],
   "source": [
    "del leg_day[0]"
   ]
  },
  {
   "cell_type": "code",
   "execution_count": 7,
   "id": "10d68bc9-be6b-4af3-b976-e6bbc10edab1",
   "metadata": {},
   "outputs": [
    {
     "data": {
      "text/plain": [
       "{'삼성전자': 60000, 'sk하이닉스': 140000, '네이버': 350000}"
      ]
     },
     "execution_count": 7,
     "metadata": {},
     "output_type": "execute_result"
    }
   ],
   "source": [
    "# 딕셔너리는 {  key :value }\n",
    "\n",
    "stock_prices = { \n",
    "    '삼성전자' : 60000,\n",
    "    'sk하이닉스' : 140000,\n",
    "    '네이버' : 350000\n",
    "}\n",
    "\n",
    "stock_prices"
   ]
  },
  {
   "cell_type": "code",
   "execution_count": 8,
   "id": "4b0f1331-f9dc-4c66-b65d-e7a94e73e67c",
   "metadata": {},
   "outputs": [
    {
     "data": {
      "text/plain": [
       "60000"
      ]
     },
     "execution_count": 8,
     "metadata": {},
     "output_type": "execute_result"
    }
   ],
   "source": [
    "stock_prices['삼성전자']"
   ]
  },
  {
   "cell_type": "code",
   "execution_count": 9,
   "id": "52167c24-9071-4de3-bffd-ace0dd284b6f",
   "metadata": {},
   "outputs": [
    {
     "ename": "KeyError",
     "evalue": "'카카오'",
     "output_type": "error",
     "traceback": [
      "\u001b[1;31m---------------------------------------------------------------------------\u001b[0m",
      "\u001b[1;31mKeyError\u001b[0m                                  Traceback (most recent call last)",
      "Cell \u001b[1;32mIn[9], line 1\u001b[0m\n\u001b[1;32m----> 1\u001b[0m stock_prices[\u001b[38;5;124m'\u001b[39m\u001b[38;5;124m카카오\u001b[39m\u001b[38;5;124m'\u001b[39m]\n",
      "\u001b[1;31mKeyError\u001b[0m: '카카오'"
     ]
    }
   ],
   "source": [
    "stock_prices['카카오']"
   ]
  },
  {
   "cell_type": "code",
   "execution_count": 10,
   "id": "49702271-5807-49dd-a10d-23a3c89e64e0",
   "metadata": {},
   "outputs": [
    {
     "name": "stdout",
     "output_type": "stream",
     "text": [
      "삼성전자\n",
      "sk하이닉스\n",
      "네이버\n"
     ]
    }
   ],
   "source": [
    "for key_value in stock_prices:\n",
    "    print(key_value)"
   ]
  },
  {
   "cell_type": "code",
   "execution_count": 13,
   "id": "e8d749a3-5d25-48e4-ba34-928d1db3c96a",
   "metadata": {},
   "outputs": [
    {
     "name": "stdout",
     "output_type": "stream",
     "text": [
      "삼성전자\n",
      "sk하이닉스\n",
      "네이버\n"
     ]
    }
   ],
   "source": [
    "for key in stock_prices.keys():\n",
    "    print(key)"
   ]
  },
  {
   "cell_type": "code",
   "execution_count": 15,
   "id": "9082e706-6f75-4910-8876-f6d5c10a949e",
   "metadata": {},
   "outputs": [
    {
     "name": "stdout",
     "output_type": "stream",
     "text": [
      "60000\n",
      "140000\n",
      "350000\n"
     ]
    }
   ],
   "source": [
    "for value in stock_prices.values():\n",
    "    print(value)"
   ]
  },
  {
   "cell_type": "code",
   "execution_count": 18,
   "id": "f9dd76a8-b945-433e-8933-d7c32980858d",
   "metadata": {},
   "outputs": [
    {
     "name": "stdout",
     "output_type": "stream",
     "text": [
      "삼성전자 60000\n",
      "sk하이닉스 140000\n",
      "네이버 350000\n"
     ]
    }
   ],
   "source": [
    "for key,value in stock_prices.items():\n",
    "    print(key,value)"
   ]
  },
  {
   "cell_type": "code",
   "execution_count": 25,
   "id": "9d78ad34-46b3-4714-96c8-184390593e95",
   "metadata": {},
   "outputs": [
    {
     "name": "stdout",
     "output_type": "stream",
     "text": [
      " 삼성전자 평균 주가 61000\n",
      " sk하이닉스 평균 주가 143666\n",
      " 네이버 평균 주가 355000\n"
     ]
    }
   ],
   "source": [
    "# key 별 주가를 더해서 평균 주가 프린트   -  sum(),Len()\n",
    "\n",
    "stock_prices = { \n",
    "    '삼성전자' : [60000, 61000, 62000],\n",
    "    'sk하이닉스' : [140000, 141000, 150000.20000],\n",
    "    '네이버' : [350000, 355000,360000]\n",
    "}\n",
    "\n",
    "for key,value in stock_prices.items():\n",
    "    avg= sum(value)/len(value)\n",
    "    print(f' {key} 평균 주가 {int(avg)}')\n",
    "    "
   ]
  },
  {
   "cell_type": "code",
   "execution_count": 34,
   "id": "0315666f-a7cc-444c-810d-fb6ab28c9367",
   "metadata": {},
   "outputs": [
    {
     "name": "stdout",
     "output_type": "stream",
     "text": [
      "삼성전자 - 최고가: 80000, 최저가: 61000\n",
      "sk하이닉스 - 최고가: 160000, 최저가: 141000\n",
      "네이버 - 최고가: 400000, 최저가: 305000\n"
     ]
    }
   ],
   "source": [
    "# 각 회사별로 주가의 최고가와 최저가 구하기\n",
    "\n",
    "stock_prices = { \n",
    "    '삼성전자' : {'최고가': 80000, '최저가': 61000, '현재가': 62000},\n",
    "    'sk하이닉스' : {'최고가': 160000, '최저가': 141000, '현재가': 150000},\n",
    "    '네이버' : {'최고가': 400000, '최저가': 305000,'현재가': 360000}\n",
    "}\n",
    "\n",
    "for key,value in stock_prices.items():\n",
    "    print(f\"{key} - 최고가: {value[\"최고가\"]}, 최저가: {value[\"최저가\"]}\")"
   ]
  },
  {
   "cell_type": "code",
   "execution_count": 37,
   "id": "832226ae-b22b-4a4d-a15f-bc62e304cafe",
   "metadata": {
    "collapsed": true,
    "jupyter": {
     "outputs_hidden": true
    }
   },
   "outputs": [
    {
     "name": "stdout",
     "output_type": "stream",
     "text": [
      "삼성전자 - 최고가: 80000, 최저가: 61000\n",
      "sk하이닉스 - 최고가: 160000, 최저가: 141000\n",
      "네이버 - 최고가: 400000, 최저가: 305000\n"
     ]
    }
   ],
   "source": [
    "for key,value in stock_prices.items():\n",
    "    max_value = value[\"최고가\"]\n",
    "    min_value = value[\"최저가\"]\n",
    "    print(f\"{key} - 최고가: {max_value}, 최저가: {min_value}\")"
   ]
  },
  {
   "cell_type": "code",
   "execution_count": null,
   "id": "478414bd-4135-455d-94b2-71cc3bb0b7b0",
   "metadata": {},
   "outputs": [],
   "source": []
  }
 ],
 "metadata": {
  "kernelspec": {
   "display_name": "Python 3 (ipykernel)",
   "language": "python",
   "name": "python3"
  },
  "language_info": {
   "codemirror_mode": {
    "name": "ipython",
    "version": 3
   },
   "file_extension": ".py",
   "mimetype": "text/x-python",
   "name": "python",
   "nbconvert_exporter": "python",
   "pygments_lexer": "ipython3",
   "version": "3.12.8"
  }
 },
 "nbformat": 4,
 "nbformat_minor": 5
}
