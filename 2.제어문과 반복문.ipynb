{
 "cells": [
  {
   "cell_type": "markdown",
   "id": "42171d6b-37c3-4353-a3d9-3efbba981c20",
   "metadata": {},
   "source": [
    "# 1. 조건문 예제\n",
    "\n",
    "## 1. 짝수와 홀수 판별하기"
   ]
  },
  {
   "cell_type": "code",
   "execution_count": 8,
   "id": "2f29ada3-dc90-4f3e-a27e-7d30de8e8f00",
   "metadata": {},
   "outputs": [
    {
     "name": "stdin",
     "output_type": "stream",
     "text": [
      "숫자를 입력하세요 (0~100): 10\n"
     ]
    },
    {
     "name": "stdout",
     "output_type": "stream",
     "text": [
      "10은(는) 짝수입니다.\n"
     ]
    }
   ],
   "source": [
    "number =  int(input(\"숫자를 입력하세요 (0~100):\"))\n",
    "if number % 2 == 0:\n",
    "    print(f\"{number}은(는) 짝수입니다.\")\n",
    "else:\n",
    "    print(f\"{number}은(는) 홀수입니다.\")"
   ]
  },
  {
   "cell_type": "markdown",
   "id": "aef9a3f6-4862-4139-96b5-ef88b29e397c",
   "metadata": {},
   "source": [
    "## 1.2 성적에 따른 학점 출력"
   ]
  },
  {
   "cell_type": "code",
   "execution_count": 12,
   "id": "2b2166e9-5e50-456e-81dc-393ec8efdf14",
   "metadata": {},
   "outputs": [
    {
     "name": "stdin",
     "output_type": "stream",
     "text": [
      "점수를 입력하세요 (0~100): 22\n"
     ]
    },
    {
     "name": "stdout",
     "output_type": "stream",
     "text": [
      "B학점입니다.\n"
     ]
    }
   ],
   "source": [
    "score = int(input(\"점수를 입력하세요 (0~100):\"))\n",
    "\n",
    "if score >= 90:\n",
    "    print(\"A학점입니다.\")\n",
    "elif score >= 80:\n",
    "     print(\"B학점입니다.\")\n",
    "elif score >= 70:\n",
    "     print(\"c학점입니다.\")\n",
    "elif score >= 60:\n",
    "     print(\"d학점입니다.\")\n",
    "else:\n",
    "     print(\"B학점입니다.\")"
   ]
  },
  {
   "cell_type": "code",
   "execution_count": 10,
   "id": "8b2a05b6-6f81-48c4-b1b9-ff94b5ca99e7",
   "metadata": {},
   "outputs": [
    {
     "name": "stdin",
     "output_type": "stream",
     "text": [
      "aa 1\n"
     ]
    }
   ],
   "source": [
    "number= int(input(\"aa\"))"
   ]
  },
  {
   "cell_type": "markdown",
   "id": "91940766-0fb1-4756-b520-5f3f1717ea22",
   "metadata": {},
   "source": [
    "## 1.3 로그인 시스템"
   ]
  },
  {
   "cell_type": "code",
   "execution_count": 20,
   "id": "107bf9a8-522d-4bdd-b2bc-b5c998d333eb",
   "metadata": {},
   "outputs": [
    {
     "name": "stdin",
     "output_type": "stream",
     "text": [
      "사용자 아이디를 입력하세요 admin\n",
      "사용자 비밀번호를 입력하세요 1234\n"
     ]
    },
    {
     "name": "stdout",
     "output_type": "stream",
     "text": [
      "로그인 성공!\n"
     ]
    }
   ],
   "source": [
    "# 간단한 로그인 시스템 \n",
    "\n",
    "user_id= \"admin\"\n",
    "user_pw = \"1234\"\n",
    "\n",
    "input_id = input('사용자 아이디를 입력하세요')\n",
    "input_pw = input('사용자 비밀번호를 입력하세요')\n",
    "\n",
    "if user_id == input_id:\n",
    "    if user_pw == input_pw:\n",
    "        print('로그인 성공!')\n",
    "\n",
    "    else:\n",
    "        print('비밀번호가 틀립니다')\n",
    "else:\n",
    "    print(\"등록된 사용자 아이디가 틀립니다\")"
   ]
  },
  {
   "cell_type": "markdown",
   "id": "11569abd-7b46-487e-a64d-02b4dbb97db6",
   "metadata": {},
   "source": [
    "## 2.반복문 예제"
   ]
  },
  {
   "cell_type": "markdown",
   "id": "28e97085-89bb-40c2-a012-bbf8df092b01",
   "metadata": {},
   "source": [
    "## 2.1 1부터 10까지 숫자 출력 (for문)"
   ]
  },
  {
   "cell_type": "code",
   "execution_count": 35,
   "id": "f642b0b5-8c7e-4143-97ed-2ce40d15f710",
   "metadata": {},
   "outputs": [
    {
     "name": "stdout",
     "output_type": "stream",
     "text": [
      "1 2 3 4 5 6 7 8 9 10 "
     ]
    }
   ],
   "source": [
    "for i in range(1, 11, 1): # (초기값, 목표값 + 1, 증가값)\n",
    "    print(i, end=\" \")"
   ]
  },
  {
   "cell_type": "code",
   "execution_count": 31,
   "id": "81e27a82-7f16-40d4-bb27-4d1ccc466d40",
   "metadata": {},
   "outputs": [
    {
     "name": "stdout",
     "output_type": "stream",
     "text": [
      "1\n",
      "3\n",
      "5\n",
      "7\n",
      "9\n"
     ]
    }
   ],
   "source": [
    "\n",
    "for i in range(1, 11, 2): # (초기값, 목표값 + 1, 증가값)\n",
    "    print(i)"
   ]
  },
  {
   "cell_type": "code",
   "execution_count": 33,
   "id": "7f0d33db-8797-4b36-8a3f-b85676c50d6c",
   "metadata": {},
   "outputs": [
    {
     "name": "stdout",
     "output_type": "stream",
     "text": [
      "a\n",
      "b\n",
      "c\n",
      "d\n"
     ]
    }
   ],
   "source": [
    "text_list = ['a','b','c','d']\n",
    "\n",
    "for txt in text_list:\n",
    "    print(txt)"
   ]
  },
  {
   "cell_type": "code",
   "execution_count": 37,
   "id": "315ad19e-e1db-459b-b3de-1f2bbc6c565b",
   "metadata": {},
   "outputs": [
    {
     "name": "stdin",
     "output_type": "stream",
     "text": [
      "다이아몬드의 높이(반쪽)를 입력하세요:  6\n"
     ]
    },
    {
     "name": "stdout",
     "output_type": "stream",
     "text": [
      "     *\n",
      "    ***\n",
      "   *****\n",
      "  *******\n",
      " *********\n",
      "***********\n",
      " *********\n",
      "  *******\n",
      "   *****\n",
      "    ***\n",
      "     *\n"
     ]
    }
   ],
   "source": [
    "# 다이아몬드 모양 별 출력\n",
    "height = int(input(\"다이아몬드의 높이(반쪽)를 입력하세요: \"))\n",
    "\n",
    "# 위쪽 피라미드\n",
    "for i in range(1, height + 1):\n",
    "    print(\" \" * (height - i) + \"*\" * (2 * i - 1))\n",
    "\n",
    "# 아래쪽 역피라미드\n",
    "for i in range(height - 1, 0, -1):\n",
    "    print(\" \" * (height - i) + \"*\" * (2 * i - 1))\n",
    "\n",
    "# 예시 입력: 5\n",
    "# 출력:\n",
    "#     *\n",
    "#    ***\n",
    "#   *****\n",
    "#  *******\n",
    "# *********\n",
    "#  *******\n",
    "#   *****\n",
    "#    ***\n",
    "#     *\n",
    " "
   ]
  },
  {
   "cell_type": "markdown",
   "id": "2e3edff7-9b71-43a1-9530-eebf4f160f2b",
   "metadata": {},
   "source": [
    "## 특정 단 구구단 출력"
   ]
  },
  {
   "cell_type": "code",
   "execution_count": 44,
   "id": "e2974fc2-cabc-4d9e-b89e-497c72cd0dca",
   "metadata": {},
   "outputs": [
    {
     "name": "stdin",
     "output_type": "stream",
     "text": [
      "출력할 구구단의 단수를 입력하세요:  5\n"
     ]
    },
    {
     "name": "stdout",
     "output_type": "stream",
     "text": [
      "5x1 =5\n",
      "5x2 =10\n",
      "5x3 =15\n",
      "5x4 =20\n",
      "5x5 =25\n",
      "5x6 =30\n",
      "5x7 =35\n",
      "5x8 =40\n",
      "5x9 =45\n"
     ]
    }
   ],
   "source": [
    "# 사용자로부터 구구단 단수를 입력받아 출력\n",
    "dan = int(input(\"출력할 구구단의 단수를 입력하세요: \"))\n",
    "\n",
    "for i in range(1,10):\n",
    "    print(f'{dan}x{i} ={dan*i}')\n",
    "    "
   ]
  },
  {
   "cell_type": "markdown",
   "id": "8188015d-9d63-4d29-88ca-9799e7e69838",
   "metadata": {},
   "source": [
    "## 2.3 리스트 요소 출력"
   ]
  },
  {
   "cell_type": "code",
   "execution_count": 7,
   "id": "6ed2f746-11c1-4f49-bf68-0637aa185f50",
   "metadata": {},
   "outputs": [
    {
     "name": "stdout",
     "output_type": "stream",
     "text": [
      "사과\n",
      "바나나\n",
      "포도\n",
      "오렌지\n"
     ]
    }
   ],
   "source": [
    "fruits = [\"사과\",\"바나나\",\"포도\",\"오렌지\"]\n",
    "\n",
    "for fruit in fruits:\n",
    "    print(fruit)"
   ]
  },
  {
   "cell_type": "markdown",
   "id": "638eb2b3-6cdd-450f-a689-7b045f8a0883",
   "metadata": {},
   "source": [
    "## 2.4 for문 사용해서 1 ~ 100까지 합계 구기기"
   ]
  },
  {
   "cell_type": "code",
   "execution_count": 6,
   "id": "846ba74b-8c2e-4fbe-a162-de5e3a38da37",
   "metadata": {},
   "outputs": [
    {
     "name": "stdout",
     "output_type": "stream",
     "text": [
      "합계 =  5050\n"
     ]
    }
   ],
   "source": [
    "sum = 0\n",
    "for i in range(1, 101):\n",
    "    sum = sum + i\n",
    "print('합계 = ', sum)"
   ]
  },
  {
   "cell_type": "markdown",
   "id": "210281dd-42ca-4ae2-89d5-fda5f8c2f98a",
   "metadata": {},
   "source": [
    "## 2.5 while 사용해서 1 ~ 100까지 합계 구기기"
   ]
  },
  {
   "cell_type": "code",
   "execution_count": 8,
   "id": "05ab6629-fc44-4d0c-a2cd-eb6b79d0ac7f",
   "metadata": {},
   "outputs": [
    {
     "name": "stdout",
     "output_type": "stream",
     "text": [
      "합계 =  5050\n"
     ]
    }
   ],
   "source": [
    "tot = 0\n",
    "cnt = 0\n",
    "while True:\n",
    "    if cnt > 99:\n",
    "        break\n",
    "    cnt = cnt + 1\n",
    "    tot = tot + cnt\n",
    "print('합계 = ', tot)\n"
   ]
  },
  {
   "cell_type": "code",
   "execution_count": 9,
   "id": "a363c22e-dc3b-4d36-b242-c824289ba822",
   "metadata": {},
   "outputs": [
    {
     "name": "stdout",
     "output_type": "stream",
     "text": [
      "합계 =  5050\n"
     ]
    }
   ],
   "source": [
    "tot = 0\n",
    "cnt = 0\n",
    "while cnt < 100:\n",
    "    cnt = cnt + 1\n",
    "    tot = tot + cnt\n",
    "print('합계 = ', tot)"
   ]
  },
  {
   "cell_type": "markdown",
   "id": "8c356bcf-e1cb-41ec-96eb-d9af7b7e3f7a",
   "metadata": {},
   "source": [
    "## 2.6 continue 사용 예제"
   ]
  },
  {
   "cell_type": "code",
   "execution_count": 13,
   "id": "a261eaf1-5ed2-48a6-a2a3-c319d7d5e16e",
   "metadata": {},
   "outputs": [
    {
     "name": "stdout",
     "output_type": "stream",
     "text": [
      "1\n",
      "3\n",
      "5\n",
      "7\n",
      "9\n",
      "11\n"
     ]
    }
   ],
   "source": [
    "# 1 부터 10 까지 짝수만 출력하오\n",
    "\n",
    "for i in range( 1,13):\n",
    "    if i % 2 ==0:\n",
    "        continue\n",
    "    print(i)"
   ]
  },
  {
   "cell_type": "markdown",
   "id": "699a201a-392b-4136-9095-f8f30ec27abb",
   "metadata": {},
   "source": [
    "## 2.7 별 출력 프로그램"
   ]
  },
  {
   "cell_type": "code",
   "execution_count": 2,
   "id": "426cfaf0-4833-4173-8ee4-2cb4e3a84491",
   "metadata": {},
   "outputs": [
    {
     "name": "stdin",
     "output_type": "stream",
     "text": [
      "출력할 줄 수를 입력하세요: 7\n"
     ]
    },
    {
     "name": "stdout",
     "output_type": "stream",
     "text": [
      "*\n",
      "**\n",
      "***\n",
      "****\n",
      "*****\n",
      "******\n",
      "*******\n"
     ]
    }
   ],
   "source": [
    "# 사용자로 부터 숫자를 입력받아서 해당 숫자만큼 별을 출력\n",
    "n = int(input('출력할 줄 수를 입력하세요:'))\n",
    "for i in range(1, n + 1):\n",
    "    print('*' * i)"
   ]
  },
  {
   "cell_type": "code",
   "execution_count": 19,
   "id": "c06fd4b0-c3d7-45ab-96d8-4db818ed7720",
   "metadata": {},
   "outputs": [
    {
     "name": "stdin",
     "output_type": "stream",
     "text": [
      "피라미드의 높이를 입력하세요:  6\n"
     ]
    },
    {
     "name": "stdout",
     "output_type": "stream",
     "text": [
      "     j\n",
      "    jjj\n",
      "   jjjjj\n",
      "  jjjjjjj\n",
      " jjjjjjjjj\n",
      "jjjjjjjjjjj\n"
     ]
    }
   ],
   "source": [
    "n = int(input(\"피라미드의 높이를 입력하세요: \"))\n",
    "\n",
    "for i in range(1, n + 1):\n",
    "    print(\" \" * (n - i) + \"j\" * (2 * i - 1))"
   ]
  },
  {
   "cell_type": "code",
   "execution_count": 28,
   "id": "f8031321-8327-4f56-a152-a820458a7655",
   "metadata": {},
   "outputs": [
    {
     "name": "stdin",
     "output_type": "stream",
     "text": [
      "피라미드의 높이를 입력하세요:  7\n"
     ]
    },
    {
     "name": "stdout",
     "output_type": "stream",
     "text": [
      "1\n",
      "12\n",
      "123\n",
      "1234\n",
      "12345\n",
      "123456\n",
      "1234567\n"
     ]
    }
   ],
   "source": [
    "n = int(input(\"피라미드의 높이를 입력하세요: \"))\n",
    "\n",
    "for i in range(1, n + 1):\n",
    "    for j in range(1, i + 1):\n",
    "        print(j,end= '')\n",
    "    print()"
   ]
  },
  {
   "cell_type": "code",
   "execution_count": 5,
   "id": "cc1ed286-ddec-4f6b-ab76-c822e9cbea84",
   "metadata": {},
   "outputs": [
    {
     "name": "stdin",
     "output_type": "stream",
     "text": [
      "출력할 구구단의 단수를 입력하세요:  3\n"
     ]
    },
    {
     "name": "stdout",
     "output_type": "stream",
     "text": [
      "3x1 =3\n",
      "3x2 =6\n",
      "3x3 =9\n",
      "3x4 =12\n",
      "3x5 =15\n",
      "3x6 =18\n",
      "3x7 =21\n",
      "3x8 =24\n",
      "3x9 =27\n"
     ]
    }
   ],
   "source": [
    "# 사용자로부터 구구단 단수를 입력받아 출력\n",
    "dan = int(input(\"출력할 구구단의 단수를 입력하세요: \"))\n",
    "\n",
    "for i in range(1,10):\n",
    "    print(f'{dan}x{i} ={dan*i}')\n"
   ]
  },
  {
   "cell_type": "markdown",
   "id": "9d890ccb-9582-4896-9154-14eacf383a59",
   "metadata": {},
   "source": [
    "## 2.9 숫자 피라미드 만들기"
   ]
  },
  {
   "cell_type": "code",
   "execution_count": 4,
   "id": "6de76986-7631-44ef-915b-2435e24c628d",
   "metadata": {},
   "outputs": [
    {
     "name": "stdout",
     "output_type": "stream",
     "text": [
      "2 x 1 =  2  3 x 1 =  3  4 x 1 =  4  5 x 1 =  5  6 x 1 =  6  7 x 1 =  7  8 x 1 =  8  9 x 1 =  9  \n",
      "2 x 2 =  4  3 x 2 =  6  4 x 2 =  8  5 x 2 = 10  6 x 2 = 12  7 x 2 = 14  8 x 2 = 16  9 x 2 = 18  \n",
      "2 x 3 =  6  3 x 3 =  9  4 x 3 = 12  5 x 3 = 15  6 x 3 = 18  7 x 3 = 21  8 x 3 = 24  9 x 3 = 27  \n",
      "2 x 4 =  8  3 x 4 = 12  4 x 4 = 16  5 x 4 = 20  6 x 4 = 24  7 x 4 = 28  8 x 4 = 32  9 x 4 = 36  \n",
      "2 x 5 = 10  3 x 5 = 15  4 x 5 = 20  5 x 5 = 25  6 x 5 = 30  7 x 5 = 35  8 x 5 = 40  9 x 5 = 45  \n",
      "2 x 6 = 12  3 x 6 = 18  4 x 6 = 24  5 x 6 = 30  6 x 6 = 36  7 x 6 = 42  8 x 6 = 48  9 x 6 = 54  \n",
      "2 x 7 = 14  3 x 7 = 21  4 x 7 = 28  5 x 7 = 35  6 x 7 = 42  7 x 7 = 49  8 x 7 = 56  9 x 7 = 63  \n",
      "2 x 8 = 16  3 x 8 = 24  4 x 8 = 32  5 x 8 = 40  6 x 8 = 48  7 x 8 = 56  8 x 8 = 64  9 x 8 = 72  \n",
      "2 x 9 = 18  3 x 9 = 27  4 x 9 = 36  5 x 9 = 45  6 x 9 = 54  7 x 9 = 63  8 x 9 = 72  9 x 9 = 81  \n"
     ]
    }
   ],
   "source": [
    "# 구구단 테이블 형식 출력\n",
    "for i in range(1, 10):\n",
    "    for j in range(2, 10):\n",
    "        print(f\"{j} x {i} = {j * i:2}\", end=\"  \")  # :2는 결과를 두 자리로 정렬\n",
    "    print()\n"
   ]
  },
  {
   "cell_type": "code",
   "execution_count": null,
   "id": "bfd119eb-5402-427a-bb0a-fa7bb023b4f4",
   "metadata": {},
   "outputs": [],
   "source": []
  }
 ],
 "metadata": {
  "kernelspec": {
   "display_name": "Python 3 (ipykernel)",
   "language": "python",
   "name": "python3"
  },
  "language_info": {
   "codemirror_mode": {
    "name": "ipython",
    "version": 3
   },
   "file_extension": ".py",
   "mimetype": "text/x-python",
   "name": "python",
   "nbconvert_exporter": "python",
   "pygments_lexer": "ipython3",
   "version": "3.12.8"
  }
 },
 "nbformat": 4,
 "nbformat_minor": 5
}
